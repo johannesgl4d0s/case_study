{
 "cells": [
  {
   "attachments": {},
   "cell_type": "markdown",
   "metadata": {},
   "source": [
    "# Try out stuff..."
   ]
  },
  {
   "attachments": {},
   "cell_type": "markdown",
   "metadata": {},
   "source": [
    "## General Stuff"
   ]
  },
  {
   "cell_type": "code",
   "execution_count": 2,
   "metadata": {},
   "outputs": [],
   "source": [
    "import warnings\n",
    "warnings.filterwarnings(\"ignore\")"
   ]
  },
  {
   "cell_type": "code",
   "execution_count": 3,
   "metadata": {},
   "outputs": [],
   "source": [
    "import matplotlib.pyplot as plt\n",
    "import pandas as pd \n",
    "\n",
    "plt.style.use(\"ggplot\")"
   ]
  },
  {
   "cell_type": "code",
   "execution_count": 4,
   "metadata": {},
   "outputs": [],
   "source": [
    "from pathlib import Path\n",
    "DATA_PATH = Path(\"../data/REFIT.h5\").absolute().__str__()\n",
    "\n",
    "from nilmtk import DataSet\n",
    "refit = DataSet(DATA_PATH, format=\"HDF\")        # hierarchical data frame  "
   ]
  },
  {
   "cell_type": "code",
   "execution_count": 5,
   "metadata": {},
   "outputs": [
    {
     "data": {
      "text/plain": [
       "nilmtk.dataset.DataSet"
      ]
     },
     "execution_count": 5,
     "metadata": {},
     "output_type": "execute_result"
    }
   ],
   "source": [
    "type(refit)"
   ]
  },
  {
   "cell_type": "code",
   "execution_count": 6,
   "metadata": {},
   "outputs": [
    {
     "data": {
      "text/plain": [
       "['_init_buildings',\n",
       " 'buildings',\n",
       " 'clear_cache',\n",
       " 'describe',\n",
       " 'elecs',\n",
       " 'get_activity_script',\n",
       " 'import_metadata',\n",
       " 'metadata',\n",
       " 'plot_good_sections',\n",
       " 'plot_mains_power_histograms',\n",
       " 'save',\n",
       " 'set_window',\n",
       " 'store']"
      ]
     },
     "execution_count": 6,
     "metadata": {},
     "output_type": "execute_result"
    }
   ],
   "source": [
    "def ndir(x):\n",
    "    \"\"\" Show properties and methods with no magic methods \"\"\"\n",
    "    return [x for x in dir(x) if not x.__contains__(\"__\")]\n",
    "\n",
    "ndir(refit)"
   ]
  },
  {
   "cell_type": "code",
   "execution_count": 7,
   "metadata": {},
   "outputs": [
    {
     "data": {
      "text/html": [
       "<ul><li><strong>name</strong>: REFIT</li><li><strong>long_name</strong>: REFIT Electrical Load Measurements dataset</li><li><strong>creators</strong>: <ul><li>Murray, David</li><li>Stankovic, Lina</li></ul></li><li><strong>publication_date</strong>: 2015</li><li><strong>institution</strong>: University of Strathclyde</li><li><strong>contact</strong>: david.murray.2013@uni.strath.ac.uk</li><li><strong>description</strong>: Up to 2 years of power data for 20 UK homes.</li><li><strong>subject</strong>: Disaggregated power demand from domestic buildings.</li><li><strong>number_of_buildings</strong>: 20</li><li><strong>timezone</strong>: Europe/London</li><li><strong>geo_location</strong>: <ul><li><strong>locality</strong>: Loughborough</li><li><strong>country</strong>: UK</li><li><strong>latitude</strong>: 52.769655</li><li><strong>longitude</strong>: -1.225061</li></ul></li><li><strong>related_documents</strong>: <ul><li><a href=\"http://iet.jrc.ec.europa.eu/energyefficiency/sites/energyefficiency/files/events/EEDAL15/S25_Smart_Meters/eedal15_submission_124.pdf\">http://iet.jrc.ec.europa.eu/energyefficiency/sites/energyefficiency/files/events/EEDAL15/S25_Smart_Meters/eedal15_submission_124.pdf</a></li><li>David Murray, Jing Liao, Lina Stankovic, Vladimir Stankovic, Richard Hauxwell-Baldwin, Charlie Wilson, Michael Coleman, Tom Kane, Steven Firth. A data management platform for personalised real-time energy feedback. In Procededings of the 8th International Conference on Energy Efficiency in Domestic Appliances and Lighting, 2015.\n",
       "</li></ul></li><li><strong>schema</strong>: <a href=\"https://github.com/nilmtk/nilm_metadata/tree/v0.2\">https://github.com/nilmtk/nilm_metadata/tree/v0.2</a></li><li><strong>meter_devices</strong>: <ul><li><strong>IAM</strong>: <ul><li><strong>model</strong>: unknown</li><li><strong>manufacturer</strong>: unknown</li><li><strong>manufacturer_url</strong>: unknown</li><li><strong>description</strong>: individual appliance monitor</li><li><strong>sample_period</strong>: 7</li><li><strong>max_sample_period</strong>: 120</li><li><strong>measurements</strong>: <ul><li>{'physical_quantity': 'power', 'type': 'active', 'upper_limit': 5000, 'lower_limit': 0}</li></ul></li><li><strong>wireless</strong>: True</li></ul></li><li><strong>Clamp</strong>: <ul><li><strong>model</strong>: unknown</li><li><strong>manufacturer</strong>: unknown</li><li><strong>manufacturer_url</strong>: unknown</li><li><strong>description</strong>: current clamp</li><li><strong>sample_period</strong>: 7</li><li><strong>max_sample_period</strong>: 120</li><li><strong>measurements</strong>: <ul><li>{'physical_quantity': 'power', 'type': 'active', 'upper_limit': 5000, 'lower_limit': 0}</li></ul></li><li><strong>wireless</strong>: True</li></ul></li></ul></li></ul>"
      ],
      "text/plain": [
       "<IPython.core.display.HTML object>"
      ]
     },
     "metadata": {},
     "output_type": "display_data"
    }
   ],
   "source": [
    "from nilmtk.utils import print_dict\n",
    "print_dict(refit.metadata)              # show meta data in nice html format"
   ]
  },
  {
   "cell_type": "code",
   "execution_count": 8,
   "metadata": {},
   "outputs": [],
   "source": [
    "refit.set_window(start=\"2014-01-01\", end=\"2014-01-05\")      # set window for only a small chunk"
   ]
  },
  {
   "attachments": {},
   "cell_type": "markdown",
   "metadata": {},
   "source": [
    "## Explore Building"
   ]
  },
  {
   "cell_type": "code",
   "execution_count": 9,
   "metadata": {},
   "outputs": [
    {
     "data": {
      "text/plain": [
       "Building(instance=1, dataset='REFIT')"
      ]
     },
     "execution_count": 9,
     "metadata": {},
     "output_type": "execute_result"
    }
   ],
   "source": [
    "refit.buildings[1]"
   ]
  },
  {
   "cell_type": "code",
   "execution_count": 10,
   "metadata": {},
   "outputs": [
    {
     "data": {
      "text/plain": [
       "{'instance': 1, 'original_name': 'House1', 'dataset': 'REFIT'}"
      ]
     },
     "execution_count": 10,
     "metadata": {},
     "output_type": "execute_result"
    }
   ],
   "source": [
    "refit.buildings[1].metadata"
   ]
  },
  {
   "cell_type": "code",
   "execution_count": 11,
   "metadata": {},
   "outputs": [
    {
     "data": {
      "text/plain": [
       "['describe', 'elec', 'identifier', 'import_metadata', 'metadata', 'save']"
      ]
     },
     "execution_count": 11,
     "metadata": {},
     "output_type": "execute_result"
    }
   ],
   "source": [
    "ndir(refit.buildings[1])         # nothing interesting, besides elec"
   ]
  },
  {
   "attachments": {},
   "cell_type": "markdown",
   "metadata": {},
   "source": [
    "## Explore MeterGroup (elec)"
   ]
  },
  {
   "cell_type": "code",
   "execution_count": 12,
   "metadata": {},
   "outputs": [
    {
     "data": {
      "text/plain": [
       "MeterGroup(meters=\n",
       "  ElecMeter(instance=1, building=10, dataset='REFIT', site_meter, appliances=[])\n",
       "  ElecMeter(instance=2, building=10, dataset='REFIT', appliances=[Appliance(type='food processor', instance=1)])\n",
       "  ElecMeter(instance=3, building=10, dataset='REFIT', appliances=[Appliance(type='toaster', instance=1)])\n",
       "  ElecMeter(instance=4, building=10, dataset='REFIT', appliances=[Appliance(type='freezer', instance=1)])\n",
       "  ElecMeter(instance=5, building=10, dataset='REFIT', appliances=[Appliance(type='fridge freezer', instance=1)])\n",
       "  ElecMeter(instance=6, building=10, dataset='REFIT', appliances=[Appliance(type='washing machine', instance=1)])\n",
       "  ElecMeter(instance=7, building=10, dataset='REFIT', appliances=[Appliance(type='dish washer', instance=1)])\n",
       "  ElecMeter(instance=8, building=10, dataset='REFIT', appliances=[Appliance(type='television', instance=1)])\n",
       "  ElecMeter(instance=9, building=10, dataset='REFIT', appliances=[Appliance(type='microwave', instance=1)])\n",
       "  ElecMeter(instance=10, building=10, dataset='REFIT', appliances=[Appliance(type='food processor', instance=2)])\n",
       ")"
      ]
     },
     "execution_count": 12,
     "metadata": {},
     "output_type": "execute_result"
    }
   ],
   "source": [
    "elec = refit.buildings[10].elec\n",
    "elec"
   ]
  },
  {
   "cell_type": "code",
   "execution_count": 13,
   "metadata": {},
   "outputs": [
    {
     "data": {
      "text/plain": [
       "ElecMeter(instance=2, building=10, dataset='REFIT', appliances=[Appliance(type='food processor', instance=1)])"
      ]
     },
     "execution_count": 13,
     "metadata": {},
     "output_type": "execute_result"
    }
   ],
   "source": [
    "elec[2]"
   ]
  },
  {
   "cell_type": "code",
   "execution_count": 14,
   "metadata": {},
   "outputs": [
    {
     "data": {
      "text/plain": [
       "['_aggregate_metadata_attribute',\n",
       " '_check_kwargs_for_full_results_and_sections',\n",
       " '_collect_stats_on_all_meters',\n",
       " '_convert_physical_quantity_and_ac_type_to_cols',\n",
       " '_energy_per_meter_with_remainder',\n",
       " '_meter_generators',\n",
       " '_plot_area',\n",
       " '_plot_energy_bar',\n",
       " '_plot_sankey',\n",
       " '_plot_separate_lines',\n",
       " '_prep_kwargs_for_sample_period_and_resample',\n",
       " '_replace_none_with_meter_timeframe',\n",
       " '_set_sample_period',\n",
       " 'activation_series',\n",
       " 'activity_histogram',\n",
       " 'all_meters',\n",
       " 'appliances',\n",
       " 'available_ac_types',\n",
       " 'available_physical_quantities',\n",
       " 'available_power_ac_types',\n",
       " 'average_energy_per_period',\n",
       " 'building',\n",
       " 'call_method_on_all_meters',\n",
       " 'clear_cache',\n",
       " 'contains_meters_from_multiple_buildings',\n",
       " 'correlation',\n",
       " 'correlation_of_sum_of_submeters_with_mains',\n",
       " 'dataframe_of_meters',\n",
       " 'dataset',\n",
       " 'describe',\n",
       " 'disabled_meters',\n",
       " 'dominant_appliance',\n",
       " 'dominant_appliances',\n",
       " 'draw_wiring_graph',\n",
       " 'dropout_rate',\n",
       " 'energy_per_meter',\n",
       " 'entropy',\n",
       " 'entropy_per_meter',\n",
       " 'fraction_per_meter',\n",
       " 'from_list',\n",
       " 'from_other_metergroup',\n",
       " 'get_activations',\n",
       " 'get_labels',\n",
       " 'get_timeframe',\n",
       " 'good_sections',\n",
       " 'groupby',\n",
       " 'identifier',\n",
       " 'import_metadata',\n",
       " 'instance',\n",
       " 'is_site_meter',\n",
       " 'label',\n",
       " 'load',\n",
       " 'load_series',\n",
       " 'mains',\n",
       " 'matches',\n",
       " 'matches_appliances',\n",
       " 'meters',\n",
       " 'meters_directly_downstream_of_mains',\n",
       " 'min_off_duration',\n",
       " 'min_on_duration',\n",
       " 'mutual_information',\n",
       " 'name',\n",
       " 'nested_metergroups',\n",
       " 'on_power_threshold',\n",
       " 'pairwise',\n",
       " 'pairwise_correlation',\n",
       " 'pairwise_mutual_information',\n",
       " 'plot',\n",
       " 'plot_activity_histogram',\n",
       " 'plot_autocorrelation',\n",
       " 'plot_good_sections',\n",
       " 'plot_lag',\n",
       " 'plot_multiple',\n",
       " 'plot_power_histogram',\n",
       " 'plot_spectrum',\n",
       " 'plot_when_on',\n",
       " 'power_series',\n",
       " 'power_series_all_data',\n",
       " 'proportion_of_energy',\n",
       " 'proportion_of_energy_submetered',\n",
       " 'proportion_of_upstream',\n",
       " 'proportion_of_upstream_total_per_meter',\n",
       " 'sample_period',\n",
       " 'select',\n",
       " 'select_top_k',\n",
       " 'select_using_appliances',\n",
       " 'simultaneous_switches',\n",
       " 'sort_meters',\n",
       " 'submeters',\n",
       " 'switch_times',\n",
       " 'total_energy',\n",
       " 'train_test_split',\n",
       " 'union',\n",
       " 'upstream_meter',\n",
       " 'uptime',\n",
       " 'use_alternative_mains',\n",
       " 'values_for_appliance_metadata_key',\n",
       " 'vampire_power',\n",
       " 'when_on',\n",
       " 'wiring_graph']"
      ]
     },
     "execution_count": 14,
     "metadata": {},
     "output_type": "execute_result"
    }
   ],
   "source": [
    "ndir(elec)"
   ]
  },
  {
   "cell_type": "code",
   "execution_count": 15,
   "metadata": {},
   "outputs": [
    {
     "data": {
      "text/plain": [
       "<matplotlib.axes._subplots.AxesSubplot at 0x23a9e51e700>"
      ]
     },
     "execution_count": 15,
     "metadata": {},
     "output_type": "execute_result"
    },
    {
     "data": {
      "image/png": "[encoded data removed]",
      "text/plain": [
       "<Figure size 640x480 with 1 Axes>"
      ]
     },
     "metadata": {},
     "output_type": "display_data"
    }
   ],
   "source": [
    "elec.plot_good_sections()"
   ]
  },
  {
   "cell_type": "code",
   "execution_count": 16,
   "metadata": {},
   "outputs": [
    {
     "name": "stdout",
     "output_type": "stream",
     "text": [
      "Running MeterGroup.proportion_of_energy_submetered...\n"
     ]
    },
    {
     "data": {
      "text/plain": [
       "0.3714788682501021"
      ]
     },
     "execution_count": 16,
     "metadata": {},
     "output_type": "execute_result"
    }
   ],
   "source": [
    "elec.proportion_of_energy_submetered()"
   ]
  },
  {
   "cell_type": "code",
   "execution_count": 17,
   "metadata": {},
   "outputs": [
    {
     "name": "stdout",
     "output_type": "stream",
     "text": [
      "9/9 ElecMeter(instance=10, building=10, dataset='REFIT', appliances=[Appliance(type='food processor', instance=2)])"
     ]
    },
    {
     "data": {
      "text/plain": [
       "<matplotlib.axes._subplots.AxesSubplot at 0x23a9f918f40>"
      ]
     },
     "execution_count": 17,
     "metadata": {},
     "output_type": "execute_result"
    },
    {
     "data": {
      "image/png": "[encoded data removed]",
      "text/plain": [
       "<Figure size 1000x3000 with 1 Axes>"
      ]
     },
     "metadata": {},
     "output_type": "display_data"
    }
   ],
   "source": [
    "fraction = elec.submeters().fraction_per_meter().dropna()\n",
    "labels = elec.get_labels(fraction.index)\n",
    "plt.figure(figsize=(10,30))\n",
    "fraction.plot(kind='pie', labels=labels)"
   ]
  },
  {
   "cell_type": "code",
   "execution_count": 18,
   "metadata": {},
   "outputs": [
    {
     "data": {
      "text/plain": [
       "{'Food processor': 0.0,\n",
       " 'Toaster': 0.1577848611452245,\n",
       " 'Freezer': 0.10453481134984381,\n",
       " 'Fridge freezer': 0.08551776198174617,\n",
       " 'Washing machine': 0.19902439749625975,\n",
       " 'Dish washer': 0.22461538414539517,\n",
       " 'Television': 0.13723371691051128,\n",
       " 'Microwave': 0.022887209491305054}"
      ]
     },
     "execution_count": 18,
     "metadata": {},
     "output_type": "execute_result"
    }
   ],
   "source": [
    "result = dict(zip(labels, fraction))\n",
    "result"
   ]
  },
  {
   "attachments": {},
   "cell_type": "markdown",
   "metadata": {},
   "source": [
    "## Explore Mains and Submeters"
   ]
  },
  {
   "cell_type": "code",
   "execution_count": 19,
   "metadata": {},
   "outputs": [
    {
     "data": {
      "text/plain": [
       "ElecMeter(instance=1, building=10, dataset='REFIT', site_meter, appliances=[])"
      ]
     },
     "execution_count": 19,
     "metadata": {},
     "output_type": "execute_result"
    }
   ],
   "source": [
    "elec.mains()        # aggregate"
   ]
  },
  {
   "cell_type": "code",
   "execution_count": 20,
   "metadata": {},
   "outputs": [
    {
     "data": {
      "text/plain": [
       "MeterGroup(meters=\n",
       "  ElecMeter(instance=2, building=10, dataset='REFIT', appliances=[Appliance(type='food processor', instance=1)])\n",
       "  ElecMeter(instance=3, building=10, dataset='REFIT', appliances=[Appliance(type='toaster', instance=1)])\n",
       "  ElecMeter(instance=4, building=10, dataset='REFIT', appliances=[Appliance(type='freezer', instance=1)])\n",
       "  ElecMeter(instance=5, building=10, dataset='REFIT', appliances=[Appliance(type='fridge freezer', instance=1)])\n",
       "  ElecMeter(instance=6, building=10, dataset='REFIT', appliances=[Appliance(type='washing machine', instance=1)])\n",
       "  ElecMeter(instance=7, building=10, dataset='REFIT', appliances=[Appliance(type='dish washer', instance=1)])\n",
       "  ElecMeter(instance=8, building=10, dataset='REFIT', appliances=[Appliance(type='television', instance=1)])\n",
       "  ElecMeter(instance=9, building=10, dataset='REFIT', appliances=[Appliance(type='microwave', instance=1)])\n",
       "  ElecMeter(instance=10, building=10, dataset='REFIT', appliances=[Appliance(type='food processor', instance=2)])\n",
       ")"
      ]
     },
     "execution_count": 20,
     "metadata": {},
     "output_type": "execute_result"
    }
   ],
   "source": [
    "elec.submeters()    # submeters"
   ]
  },
  {
   "cell_type": "code",
   "execution_count": 21,
   "metadata": {},
   "outputs": [],
   "source": [
    "aggregate = elec.mains().load(sample_period=60)         # returns generator \n",
    "aggregate = next(aggregate)                             # execute"
   ]
  },
  {
   "cell_type": "code",
   "execution_count": 22,
   "metadata": {},
   "outputs": [
    {
     "data": {
      "text/plain": [
       "pandas.core.frame.DataFrame"
      ]
     },
     "execution_count": 22,
     "metadata": {},
     "output_type": "execute_result"
    }
   ],
   "source": [
    "type(aggregate)"
   ]
  },
  {
   "cell_type": "code",
   "execution_count": 23,
   "metadata": {},
   "outputs": [
    {
     "data": {
      "text/html": [
       "<div>\n",
       "<style scoped>\n",
       "    .dataframe tbody tr th:only-of-type {\n",
       "        vertical-align: middle;\n",
       "    }\n",
       "\n",
       "    .dataframe tbody tr th {\n",
       "        vertical-align: top;\n",
       "    }\n",
       "\n",
       "    .dataframe thead tr th {\n",
       "        text-align: left;\n",
       "    }\n",
       "\n",
       "    .dataframe thead tr:last-of-type th {\n",
       "        text-align: right;\n",
       "    }\n",
       "</style>\n",
       "<table border=\"1\" class=\"dataframe\">\n",
       "  <thead>\n",
       "    <tr>\n",
       "      <th>physical_quantity</th>\n",
       "      <th>power</th>\n",
       "    </tr>\n",
       "    <tr>\n",
       "      <th>type</th>\n",
       "      <th>active</th>\n",
       "    </tr>\n",
       "    <tr>\n",
       "      <th>Unix</th>\n",
       "      <th></th>\n",
       "    </tr>\n",
       "  </thead>\n",
       "  <tbody>\n",
       "    <tr>\n",
       "      <th>2014-01-01 00:00:00+00:00</th>\n",
       "      <td>2967.333333</td>\n",
       "    </tr>\n",
       "    <tr>\n",
       "      <th>2014-01-01 00:01:00+00:00</th>\n",
       "      <td>2954.888889</td>\n",
       "    </tr>\n",
       "    <tr>\n",
       "      <th>2014-01-01 00:02:00+00:00</th>\n",
       "      <td>2963.600000</td>\n",
       "    </tr>\n",
       "    <tr>\n",
       "      <th>2014-01-01 00:03:00+00:00</th>\n",
       "      <td>2927.777778</td>\n",
       "    </tr>\n",
       "    <tr>\n",
       "      <th>2014-01-01 00:04:00+00:00</th>\n",
       "      <td>2935.222222</td>\n",
       "    </tr>\n",
       "  </tbody>\n",
       "</table>\n",
       "</div>"
      ],
      "text/plain": [
       "physical_quantity                power\n",
       "type                            active\n",
       "Unix                                  \n",
       "2014-01-01 00:00:00+00:00  2967.333333\n",
       "2014-01-01 00:01:00+00:00  2954.888889\n",
       "2014-01-01 00:02:00+00:00  2963.600000\n",
       "2014-01-01 00:03:00+00:00  2927.777778\n",
       "2014-01-01 00:04:00+00:00  2935.222222"
      ]
     },
     "execution_count": 23,
     "metadata": {},
     "output_type": "execute_result"
    }
   ],
   "source": [
    "aggregate.head()"
   ]
  },
  {
   "cell_type": "code",
   "execution_count": 24,
   "metadata": {},
   "outputs": [
    {
     "name": "stdout",
     "output_type": "stream",
     "text": [
      "<class 'pandas.core.frame.DataFrame'>\n",
      "DatetimeIndex: 5760 entries, 2014-01-01 00:00:00+00:00 to 2014-01-04 23:59:00+00:00\n",
      "Freq: 60S\n",
      "Data columns (total 1 columns):\n",
      "(power, active)    5749 non-null float64\n",
      "dtypes: float64(1)\n",
      "memory usage: 90.0 KB\n"
     ]
    }
   ],
   "source": [
    "aggregate.info()"
   ]
  },
  {
   "cell_type": "code",
   "execution_count": 25,
   "metadata": {},
   "outputs": [
    {
     "data": {
      "text/plain": [
       "<matplotlib.axes._subplots.AxesSubplot at 0x23a9f967820>"
      ]
     },
     "execution_count": 25,
     "metadata": {},
     "output_type": "execute_result"
    },
    {
     "data": {
      "image/png": "[encoded data removed]",
      "text/plain": [
       "<Figure size 640x480 with 1 Axes>"
      ]
     },
     "metadata": {},
     "output_type": "display_data"
    }
   ],
   "source": [
    "aggregate.plot()"
   ]
  },
  {
   "cell_type": "code",
   "execution_count": 26,
   "metadata": {},
   "outputs": [
    {
     "data": {
      "text/plain": [
       "['_ac_type_to_columns',\n",
       " '_aggregate_metadata_attribute',\n",
       " '_check_store',\n",
       " '_compute_stat',\n",
       " '_convert_physical_quantity_and_ac_type_to_cols',\n",
       " '_get_columns_with_best_ac_type',\n",
       " '_get_stat_from_cache_or_compute',\n",
       " '_identifier_attr',\n",
       " '_physical_quantity_to_columns',\n",
       " '_prep_kwargs_for_sample_period_and_resample',\n",
       " '_pretty_label',\n",
       " '_replace_none_with_meter_timeframe',\n",
       " '_set_sample_period',\n",
       " 'activation_series',\n",
       " 'activity_histogram',\n",
       " 'appliances',\n",
       " 'available_ac_types',\n",
       " 'available_columns',\n",
       " 'available_physical_quantities',\n",
       " 'available_power_ac_types',\n",
       " 'average_energy_per_period',\n",
       " 'building',\n",
       " 'cache',\n",
       " 'clear_cache',\n",
       " 'correlation',\n",
       " 'dataset',\n",
       " 'device',\n",
       " 'dominant_appliance',\n",
       " 'dropout_rate',\n",
       " 'dry_run_metadata',\n",
       " 'entropy',\n",
       " 'get_activations',\n",
       " 'get_cached_stat',\n",
       " 'get_metadata',\n",
       " 'get_source_node',\n",
       " 'get_timeframe',\n",
       " 'good_sections',\n",
       " 'identifier',\n",
       " 'instance',\n",
       " 'is_site_meter',\n",
       " 'key',\n",
       " 'key_for_cached_stat',\n",
       " 'label',\n",
       " 'load',\n",
       " 'load_meter_devices',\n",
       " 'load_series',\n",
       " 'matches',\n",
       " 'matches_appliances',\n",
       " 'metadata',\n",
       " 'meter_devices',\n",
       " 'min_off_duration',\n",
       " 'min_on_duration',\n",
       " 'mutual_information',\n",
       " 'name',\n",
       " 'on_power_threshold',\n",
       " 'plot',\n",
       " 'plot_activity_histogram',\n",
       " 'plot_autocorrelation',\n",
       " 'plot_lag',\n",
       " 'plot_power_histogram',\n",
       " 'plot_spectrum',\n",
       " 'power_series',\n",
       " 'power_series_all_data',\n",
       " 'proportion_of_energy',\n",
       " 'proportion_of_upstream',\n",
       " 'sample_period',\n",
       " 'save',\n",
       " 'store',\n",
       " 'switch_times',\n",
       " 'total_energy',\n",
       " 'upstream_meter',\n",
       " 'uptime',\n",
       " 'vampire_power',\n",
       " 'when_on']"
      ]
     },
     "execution_count": 26,
     "metadata": {},
     "output_type": "execute_result"
    }
   ],
   "source": [
    "app = elec[4]\n",
    "ndir(app)"
   ]
  },
  {
   "cell_type": "code",
   "execution_count": 27,
   "metadata": {},
   "outputs": [
    {
     "data": {
      "text/plain": [
       "[('power', 'active')]"
      ]
     },
     "execution_count": 27,
     "metadata": {},
     "output_type": "execute_result"
    }
   ],
   "source": [
    "app.available_columns()"
   ]
  },
  {
   "cell_type": "code",
   "execution_count": 28,
   "metadata": {},
   "outputs": [
    {
     "data": {
      "text/plain": [
       "'Freezer'"
      ]
     },
     "execution_count": 28,
     "metadata": {},
     "output_type": "execute_result"
    }
   ],
   "source": [
    "app.label()"
   ]
  },
  {
   "cell_type": "code",
   "execution_count": 29,
   "metadata": {},
   "outputs": [
    {
     "data": {
      "text/plain": [
       "{'original_name': 'Chest Freezer',\n",
       " 'type': 'freezer',\n",
       " 'instance': 1,\n",
       " 'meters': [4],\n",
       " 'dataset': 'REFIT',\n",
       " 'building': 10}"
      ]
     },
     "execution_count": 29,
     "metadata": {},
     "output_type": "execute_result"
    }
   ],
   "source": [
    "app.appliances[0].metadata"
   ]
  },
  {
   "cell_type": "code",
   "execution_count": 30,
   "metadata": {},
   "outputs": [],
   "source": [
    "app = app.load(sample_period=60)\n",
    "app = next(app)"
   ]
  },
  {
   "cell_type": "code",
   "execution_count": 31,
   "metadata": {},
   "outputs": [
    {
     "name": "stdout",
     "output_type": "stream",
     "text": [
      "<class 'pandas.core.frame.DataFrame'>\n",
      "DatetimeIndex: 5760 entries, 2014-01-01 00:00:00+00:00 to 2014-01-04 23:59:00+00:00\n",
      "Freq: 60S\n",
      "Data columns (total 1 columns):\n",
      "(power, active)    5749 non-null float64\n",
      "dtypes: float64(1)\n",
      "memory usage: 90.0 KB\n"
     ]
    }
   ],
   "source": [
    "app.info()"
   ]
  },
  {
   "cell_type": "code",
   "execution_count": 32,
   "metadata": {},
   "outputs": [
    {
     "data": {
      "text/html": [
       "<div>\n",
       "<style scoped>\n",
       "    .dataframe tbody tr th:only-of-type {\n",
       "        vertical-align: middle;\n",
       "    }\n",
       "\n",
       "    .dataframe tbody tr th {\n",
       "        vertical-align: top;\n",
       "    }\n",
       "\n",
       "    .dataframe thead tr th {\n",
       "        text-align: left;\n",
       "    }\n",
       "\n",
       "    .dataframe thead tr:last-of-type th {\n",
       "        text-align: right;\n",
       "    }\n",
       "</style>\n",
       "<table border=\"1\" class=\"dataframe\">\n",
       "  <thead>\n",
       "    <tr>\n",
       "      <th>physical_quantity</th>\n",
       "      <th>power</th>\n",
       "    </tr>\n",
       "    <tr>\n",
       "      <th>type</th>\n",
       "      <th>active</th>\n",
       "    </tr>\n",
       "    <tr>\n",
       "      <th>Unix</th>\n",
       "      <th></th>\n",
       "    </tr>\n",
       "  </thead>\n",
       "  <tbody>\n",
       "    <tr>\n",
       "      <th>2014-01-01 00:00:00+00:00</th>\n",
       "      <td>0.0</td>\n",
       "    </tr>\n",
       "    <tr>\n",
       "      <th>2014-01-01 00:01:00+00:00</th>\n",
       "      <td>0.0</td>\n",
       "    </tr>\n",
       "    <tr>\n",
       "      <th>2014-01-01 00:02:00+00:00</th>\n",
       "      <td>0.0</td>\n",
       "    </tr>\n",
       "    <tr>\n",
       "      <th>2014-01-01 00:03:00+00:00</th>\n",
       "      <td>0.0</td>\n",
       "    </tr>\n",
       "    <tr>\n",
       "      <th>2014-01-01 00:04:00+00:00</th>\n",
       "      <td>0.0</td>\n",
       "    </tr>\n",
       "  </tbody>\n",
       "</table>\n",
       "</div>"
      ],
      "text/plain": [
       "physical_quantity          power\n",
       "type                      active\n",
       "Unix                            \n",
       "2014-01-01 00:00:00+00:00    0.0\n",
       "2014-01-01 00:01:00+00:00    0.0\n",
       "2014-01-01 00:02:00+00:00    0.0\n",
       "2014-01-01 00:03:00+00:00    0.0\n",
       "2014-01-01 00:04:00+00:00    0.0"
      ]
     },
     "execution_count": 32,
     "metadata": {},
     "output_type": "execute_result"
    }
   ],
   "source": [
    "app.head()"
   ]
  },
  {
   "cell_type": "code",
   "execution_count": 33,
   "metadata": {},
   "outputs": [
    {
     "data": {
      "text/plain": [
       "<matplotlib.axes._subplots.AxesSubplot at 0x23aa1055b50>"
      ]
     },
     "execution_count": 33,
     "metadata": {},
     "output_type": "execute_result"
    },
    {
     "data": {
      "image/png": "[encoded data removed]",
      "text/plain": [
       "<Figure size 640x480 with 1 Axes>"
      ]
     },
     "metadata": {},
     "output_type": "display_data"
    }
   ],
   "source": [
    "app.plot()"
   ]
  },
  {
   "attachments": {},
   "cell_type": "markdown",
   "metadata": {},
   "source": [
    "## Explore Dataframe"
   ]
  },
  {
   "cell_type": "code",
   "execution_count": 32,
   "metadata": {},
   "outputs": [],
   "source": [
    "df = elec.dataframe_of_meters(sample_period=60)\n",
    "labels = elec.get_labels(df.columns.values)\n",
    "df = df.set_axis(labels, axis=1, inplace=False)"
   ]
  },
  {
   "cell_type": "code",
   "execution_count": 33,
   "metadata": {},
   "outputs": [
    {
     "data": {
      "text/html": [
       "<div>\n",
       "<style scoped>\n",
       "    .dataframe tbody tr th:only-of-type {\n",
       "        vertical-align: middle;\n",
       "    }\n",
       "\n",
       "    .dataframe tbody tr th {\n",
       "        vertical-align: top;\n",
       "    }\n",
       "\n",
       "    .dataframe thead th {\n",
       "        text-align: right;\n",
       "    }\n",
       "</style>\n",
       "<table border=\"1\" class=\"dataframe\">\n",
       "  <thead>\n",
       "    <tr style=\"text-align: right;\">\n",
       "      <th></th>\n",
       "      <th>Site meter</th>\n",
       "      <th>Food processor</th>\n",
       "      <th>Toaster</th>\n",
       "      <th>Freezer</th>\n",
       "      <th>Fridge freezer</th>\n",
       "      <th>Washing machine</th>\n",
       "      <th>Dish washer</th>\n",
       "      <th>Television</th>\n",
       "      <th>Microwave</th>\n",
       "      <th>Food processor</th>\n",
       "    </tr>\n",
       "    <tr>\n",
       "      <th>Unix</th>\n",
       "      <th></th>\n",
       "      <th></th>\n",
       "      <th></th>\n",
       "      <th></th>\n",
       "      <th></th>\n",
       "      <th></th>\n",
       "      <th></th>\n",
       "      <th></th>\n",
       "      <th></th>\n",
       "      <th></th>\n",
       "    </tr>\n",
       "  </thead>\n",
       "  <tbody>\n",
       "    <tr>\n",
       "      <th>2014-01-01 00:00:00+00:00</th>\n",
       "      <td>2967.333333</td>\n",
       "      <td>73.666667</td>\n",
       "      <td>0.0</td>\n",
       "      <td>0.0</td>\n",
       "      <td>106.500000</td>\n",
       "      <td>0.0</td>\n",
       "      <td>1897.833333</td>\n",
       "      <td>61.333333</td>\n",
       "      <td>0.0</td>\n",
       "      <td>0.0</td>\n",
       "    </tr>\n",
       "    <tr>\n",
       "      <th>2014-01-01 00:01:00+00:00</th>\n",
       "      <td>2954.888889</td>\n",
       "      <td>72.555556</td>\n",
       "      <td>0.0</td>\n",
       "      <td>0.0</td>\n",
       "      <td>105.111111</td>\n",
       "      <td>0.0</td>\n",
       "      <td>1896.777778</td>\n",
       "      <td>64.888889</td>\n",
       "      <td>0.0</td>\n",
       "      <td>0.0</td>\n",
       "    </tr>\n",
       "    <tr>\n",
       "      <th>2014-01-01 00:02:00+00:00</th>\n",
       "      <td>2963.600000</td>\n",
       "      <td>73.300000</td>\n",
       "      <td>0.0</td>\n",
       "      <td>0.0</td>\n",
       "      <td>103.800000</td>\n",
       "      <td>0.0</td>\n",
       "      <td>1895.300000</td>\n",
       "      <td>60.500000</td>\n",
       "      <td>0.0</td>\n",
       "      <td>0.0</td>\n",
       "    </tr>\n",
       "    <tr>\n",
       "      <th>2014-01-01 00:03:00+00:00</th>\n",
       "      <td>2927.777778</td>\n",
       "      <td>72.555556</td>\n",
       "      <td>0.0</td>\n",
       "      <td>0.0</td>\n",
       "      <td>102.222222</td>\n",
       "      <td>0.0</td>\n",
       "      <td>1861.555556</td>\n",
       "      <td>64.333333</td>\n",
       "      <td>0.0</td>\n",
       "      <td>0.0</td>\n",
       "    </tr>\n",
       "    <tr>\n",
       "      <th>2014-01-01 00:04:00+00:00</th>\n",
       "      <td>2935.222222</td>\n",
       "      <td>73.333333</td>\n",
       "      <td>0.0</td>\n",
       "      <td>0.0</td>\n",
       "      <td>100.222222</td>\n",
       "      <td>0.0</td>\n",
       "      <td>1860.555556</td>\n",
       "      <td>65.222222</td>\n",
       "      <td>0.0</td>\n",
       "      <td>0.0</td>\n",
       "    </tr>\n",
       "  </tbody>\n",
       "</table>\n",
       "</div>"
      ],
      "text/plain": [
       "                            Site meter  Food processor  Toaster  Freezer  \\\n",
       "Unix                                                                       \n",
       "2014-01-01 00:00:00+00:00  2967.333333       73.666667      0.0      0.0   \n",
       "2014-01-01 00:01:00+00:00  2954.888889       72.555556      0.0      0.0   \n",
       "2014-01-01 00:02:00+00:00  2963.600000       73.300000      0.0      0.0   \n",
       "2014-01-01 00:03:00+00:00  2927.777778       72.555556      0.0      0.0   \n",
       "2014-01-01 00:04:00+00:00  2935.222222       73.333333      0.0      0.0   \n",
       "\n",
       "                           Fridge freezer  Washing machine  Dish washer  \\\n",
       "Unix                                                                      \n",
       "2014-01-01 00:00:00+00:00      106.500000              0.0  1897.833333   \n",
       "2014-01-01 00:01:00+00:00      105.111111              0.0  1896.777778   \n",
       "2014-01-01 00:02:00+00:00      103.800000              0.0  1895.300000   \n",
       "2014-01-01 00:03:00+00:00      102.222222              0.0  1861.555556   \n",
       "2014-01-01 00:04:00+00:00      100.222222              0.0  1860.555556   \n",
       "\n",
       "                           Television  Microwave  Food processor  \n",
       "Unix                                                              \n",
       "2014-01-01 00:00:00+00:00   61.333333        0.0             0.0  \n",
       "2014-01-01 00:01:00+00:00   64.888889        0.0             0.0  \n",
       "2014-01-01 00:02:00+00:00   60.500000        0.0             0.0  \n",
       "2014-01-01 00:03:00+00:00   64.333333        0.0             0.0  \n",
       "2014-01-01 00:04:00+00:00   65.222222        0.0             0.0  "
      ]
     },
     "execution_count": 33,
     "metadata": {},
     "output_type": "execute_result"
    }
   ],
   "source": [
    "df.head()"
   ]
  },
  {
   "cell_type": "code",
   "execution_count": 34,
   "metadata": {},
   "outputs": [
    {
     "data": {
      "text/html": [
       "<div>\n",
       "<style scoped>\n",
       "    .dataframe tbody tr th:only-of-type {\n",
       "        vertical-align: middle;\n",
       "    }\n",
       "\n",
       "    .dataframe tbody tr th {\n",
       "        vertical-align: top;\n",
       "    }\n",
       "\n",
       "    .dataframe thead th {\n",
       "        text-align: right;\n",
       "    }\n",
       "</style>\n",
       "<table border=\"1\" class=\"dataframe\">\n",
       "  <thead>\n",
       "    <tr style=\"text-align: right;\">\n",
       "      <th></th>\n",
       "      <th>Site meter</th>\n",
       "      <th>Food processor</th>\n",
       "      <th>Toaster</th>\n",
       "      <th>Freezer</th>\n",
       "      <th>Fridge freezer</th>\n",
       "      <th>Washing machine</th>\n",
       "      <th>Dish washer</th>\n",
       "      <th>Television</th>\n",
       "      <th>Microwave</th>\n",
       "      <th>Food processor</th>\n",
       "    </tr>\n",
       "  </thead>\n",
       "  <tbody>\n",
       "    <tr>\n",
       "      <th>count</th>\n",
       "      <td>5760.000000</td>\n",
       "      <td>5760.000000</td>\n",
       "      <td>5760.000000</td>\n",
       "      <td>5760.000000</td>\n",
       "      <td>5760.000000</td>\n",
       "      <td>5760.000000</td>\n",
       "      <td>5760.000000</td>\n",
       "      <td>5760.000000</td>\n",
       "      <td>5760.000000</td>\n",
       "      <td>5760.0</td>\n",
       "    </tr>\n",
       "    <tr>\n",
       "      <th>mean</th>\n",
       "      <td>766.813091</td>\n",
       "      <td>19.433715</td>\n",
       "      <td>44.841088</td>\n",
       "      <td>29.710931</td>\n",
       "      <td>24.309070</td>\n",
       "      <td>56.463264</td>\n",
       "      <td>63.805355</td>\n",
       "      <td>39.008180</td>\n",
       "      <td>6.536797</td>\n",
       "      <td>0.0</td>\n",
       "    </tr>\n",
       "    <tr>\n",
       "      <th>std</th>\n",
       "      <td>754.766691</td>\n",
       "      <td>36.182248</td>\n",
       "      <td>33.318243</td>\n",
       "      <td>38.188168</td>\n",
       "      <td>43.808603</td>\n",
       "      <td>281.061163</td>\n",
       "      <td>311.283374</td>\n",
       "      <td>25.949171</td>\n",
       "      <td>77.624463</td>\n",
       "      <td>0.0</td>\n",
       "    </tr>\n",
       "    <tr>\n",
       "      <th>min</th>\n",
       "      <td>0.000000</td>\n",
       "      <td>0.000000</td>\n",
       "      <td>0.000000</td>\n",
       "      <td>0.000000</td>\n",
       "      <td>0.000000</td>\n",
       "      <td>0.000000</td>\n",
       "      <td>0.000000</td>\n",
       "      <td>0.000000</td>\n",
       "      <td>0.000000</td>\n",
       "      <td>0.0</td>\n",
       "    </tr>\n",
       "    <tr>\n",
       "      <th>25%</th>\n",
       "      <td>272.575000</td>\n",
       "      <td>0.000000</td>\n",
       "      <td>0.000000</td>\n",
       "      <td>0.000000</td>\n",
       "      <td>0.000000</td>\n",
       "      <td>0.000000</td>\n",
       "      <td>1.200000</td>\n",
       "      <td>24.666667</td>\n",
       "      <td>0.000000</td>\n",
       "      <td>0.0</td>\n",
       "    </tr>\n",
       "    <tr>\n",
       "      <th>50%</th>\n",
       "      <td>514.416667</td>\n",
       "      <td>0.000000</td>\n",
       "      <td>68.818182</td>\n",
       "      <td>0.000000</td>\n",
       "      <td>0.000000</td>\n",
       "      <td>0.000000</td>\n",
       "      <td>1.555556</td>\n",
       "      <td>24.900000</td>\n",
       "      <td>0.000000</td>\n",
       "      <td>0.0</td>\n",
       "    </tr>\n",
       "    <tr>\n",
       "      <th>75%</th>\n",
       "      <td>929.625000</td>\n",
       "      <td>0.000000</td>\n",
       "      <td>70.500000</td>\n",
       "      <td>75.900000</td>\n",
       "      <td>0.933333</td>\n",
       "      <td>0.000000</td>\n",
       "      <td>1.800000</td>\n",
       "      <td>62.300000</td>\n",
       "      <td>0.000000</td>\n",
       "      <td>0.0</td>\n",
       "    </tr>\n",
       "    <tr>\n",
       "      <th>max</th>\n",
       "      <td>7131.125000</td>\n",
       "      <td>170.600000</td>\n",
       "      <td>136.800000</td>\n",
       "      <td>289.400000</td>\n",
       "      <td>563.200000</td>\n",
       "      <td>2146.500000</td>\n",
       "      <td>1897.833333</td>\n",
       "      <td>109.800000</td>\n",
       "      <td>1218.000000</td>\n",
       "      <td>0.0</td>\n",
       "    </tr>\n",
       "  </tbody>\n",
       "</table>\n",
       "</div>"
      ],
      "text/plain": [
       "        Site meter  Food processor      Toaster      Freezer  Fridge freezer  \\\n",
       "count  5760.000000     5760.000000  5760.000000  5760.000000     5760.000000   \n",
       "mean    766.813091       19.433715    44.841088    29.710931       24.309070   \n",
       "std     754.766691       36.182248    33.318243    38.188168       43.808603   \n",
       "min       0.000000        0.000000     0.000000     0.000000        0.000000   \n",
       "25%     272.575000        0.000000     0.000000     0.000000        0.000000   \n",
       "50%     514.416667        0.000000    68.818182     0.000000        0.000000   \n",
       "75%     929.625000        0.000000    70.500000    75.900000        0.933333   \n",
       "max    7131.125000      170.600000   136.800000   289.400000      563.200000   \n",
       "\n",
       "       Washing machine  Dish washer   Television    Microwave  Food processor  \n",
       "count      5760.000000  5760.000000  5760.000000  5760.000000          5760.0  \n",
       "mean         56.463264    63.805355    39.008180     6.536797             0.0  \n",
       "std         281.061163   311.283374    25.949171    77.624463             0.0  \n",
       "min           0.000000     0.000000     0.000000     0.000000             0.0  \n",
       "25%           0.000000     1.200000    24.666667     0.000000             0.0  \n",
       "50%           0.000000     1.555556    24.900000     0.000000             0.0  \n",
       "75%           0.000000     1.800000    62.300000     0.000000             0.0  \n",
       "max        2146.500000  1897.833333   109.800000  1218.000000             0.0  "
      ]
     },
     "execution_count": 34,
     "metadata": {},
     "output_type": "execute_result"
    }
   ],
   "source": [
    "df.describe()"
   ]
  },
  {
   "attachments": {},
   "cell_type": "markdown",
   "metadata": {},
   "source": [
    "## Just Pandas"
   ]
  },
  {
   "attachments": {},
   "cell_type": "markdown",
   "metadata": {},
   "source": [
    "Not really fruitful... also `pandas` is pinned on version `0.25.3` due to `nilmtk`, several major versions behind and before a stable release of `pandas`. "
   ]
  },
  {
   "cell_type": "code",
   "execution_count": 63,
   "metadata": {},
   "outputs": [],
   "source": [
    "hdf = pd.HDFStore(DATA_PATH, mode=\"r\")"
   ]
  },
  {
   "cell_type": "code",
   "execution_count": 64,
   "metadata": {},
   "outputs": [
    {
     "data": {
      "text/plain": [
       "['/building9/elec/meter1',\n",
       " '/building9/elec/meter10',\n",
       " '/building9/elec/meter2',\n",
       " '/building9/elec/meter3',\n",
       " '/building9/elec/meter4',\n",
       " '/building9/elec/meter5',\n",
       " '/building9/elec/meter6',\n",
       " '/building9/elec/meter7',\n",
       " '/building9/elec/meter8',\n",
       " '/building9/elec/meter9',\n",
       " '/building9/elec/cache/meter9/total_energy',\n",
       " '/building9/elec/cache/meter8/total_energy',\n",
       " '/building9/elec/cache/meter7/total_energy',\n",
       " '/building9/elec/cache/meter6/total_energy',\n",
       " '/building9/elec/cache/meter5/total_energy',\n",
       " '/building9/elec/cache/meter4/total_energy',\n",
       " '/building9/elec/cache/meter3/total_energy',\n",
       " '/building9/elec/cache/meter2/total_energy',\n",
       " '/building9/elec/cache/meter10/total_energy',\n",
       " '/building9/elec/cache/meter1/good_sections',\n",
       " '/building9/elec/cache/meter1/total_energy',\n",
       " '/building8/elec/meter1',\n",
       " '/building8/elec/meter10',\n",
       " '/building8/elec/meter2',\n",
       " '/building8/elec/meter3',\n",
       " '/building8/elec/meter4',\n",
       " '/building8/elec/meter5',\n",
       " '/building8/elec/meter6',\n",
       " '/building8/elec/meter7',\n",
       " '/building8/elec/meter8',\n",
       " '/building8/elec/meter9',\n",
       " '/building8/elec/cache/meter9/dropout_rate',\n",
       " '/building8/elec/cache/meter9/good_sections',\n",
       " '/building8/elec/cache/meter9/total_energy',\n",
       " '/building8/elec/cache/meter8/dropout_rate',\n",
       " '/building8/elec/cache/meter8/good_sections',\n",
       " '/building8/elec/cache/meter8/total_energy',\n",
       " '/building8/elec/cache/meter7/dropout_rate',\n",
       " '/building8/elec/cache/meter7/good_sections',\n",
       " '/building8/elec/cache/meter7/total_energy',\n",
       " '/building8/elec/cache/meter6/dropout_rate',\n",
       " '/building8/elec/cache/meter6/good_sections',\n",
       " '/building8/elec/cache/meter6/total_energy',\n",
       " '/building8/elec/cache/meter5/dropout_rate',\n",
       " '/building8/elec/cache/meter5/good_sections',\n",
       " '/building8/elec/cache/meter5/total_energy',\n",
       " '/building8/elec/cache/meter4/dropout_rate',\n",
       " '/building8/elec/cache/meter4/good_sections',\n",
       " '/building8/elec/cache/meter4/total_energy',\n",
       " '/building8/elec/cache/meter3/dropout_rate',\n",
       " '/building8/elec/cache/meter3/good_sections',\n",
       " '/building8/elec/cache/meter3/total_energy',\n",
       " '/building8/elec/cache/meter2/dropout_rate',\n",
       " '/building8/elec/cache/meter2/good_sections',\n",
       " '/building8/elec/cache/meter2/total_energy',\n",
       " '/building8/elec/cache/meter10/dropout_rate',\n",
       " '/building8/elec/cache/meter10/good_sections',\n",
       " '/building8/elec/cache/meter10/total_energy',\n",
       " '/building8/elec/cache/meter1/dropout_rate',\n",
       " '/building8/elec/cache/meter1/good_sections',\n",
       " '/building8/elec/cache/meter1/total_energy',\n",
       " '/building7/elec/meter1',\n",
       " '/building7/elec/meter10',\n",
       " '/building7/elec/meter2',\n",
       " '/building7/elec/meter3',\n",
       " '/building7/elec/meter4',\n",
       " '/building7/elec/meter5',\n",
       " '/building7/elec/meter6',\n",
       " '/building7/elec/meter7',\n",
       " '/building7/elec/meter8',\n",
       " '/building7/elec/meter9',\n",
       " '/building7/elec/cache/meter9/dropout_rate',\n",
       " '/building7/elec/cache/meter9/good_sections',\n",
       " '/building7/elec/cache/meter9/total_energy',\n",
       " '/building7/elec/cache/meter8/dropout_rate',\n",
       " '/building7/elec/cache/meter8/good_sections',\n",
       " '/building7/elec/cache/meter8/total_energy',\n",
       " '/building7/elec/cache/meter7/dropout_rate',\n",
       " '/building7/elec/cache/meter7/good_sections',\n",
       " '/building7/elec/cache/meter7/total_energy',\n",
       " '/building7/elec/cache/meter6/dropout_rate',\n",
       " '/building7/elec/cache/meter6/good_sections',\n",
       " '/building7/elec/cache/meter6/total_energy',\n",
       " '/building7/elec/cache/meter5/dropout_rate',\n",
       " '/building7/elec/cache/meter5/good_sections',\n",
       " '/building7/elec/cache/meter5/total_energy',\n",
       " '/building7/elec/cache/meter4/dropout_rate',\n",
       " '/building7/elec/cache/meter4/good_sections',\n",
       " '/building7/elec/cache/meter4/total_energy',\n",
       " '/building7/elec/cache/meter3/dropout_rate',\n",
       " '/building7/elec/cache/meter3/good_sections',\n",
       " '/building7/elec/cache/meter3/total_energy',\n",
       " '/building7/elec/cache/meter2/dropout_rate',\n",
       " '/building7/elec/cache/meter2/good_sections',\n",
       " '/building7/elec/cache/meter2/total_energy',\n",
       " '/building7/elec/cache/meter10/dropout_rate',\n",
       " '/building7/elec/cache/meter10/good_sections',\n",
       " '/building7/elec/cache/meter10/total_energy',\n",
       " '/building7/elec/cache/meter1/dropout_rate',\n",
       " '/building7/elec/cache/meter1/good_sections',\n",
       " '/building7/elec/cache/meter1/total_energy',\n",
       " '/building6/elec/meter1',\n",
       " '/building6/elec/meter10',\n",
       " '/building6/elec/meter2',\n",
       " '/building6/elec/meter3',\n",
       " '/building6/elec/meter4',\n",
       " '/building6/elec/meter5',\n",
       " '/building6/elec/meter6',\n",
       " '/building6/elec/meter7',\n",
       " '/building6/elec/meter8',\n",
       " '/building6/elec/meter9',\n",
       " '/building6/elec/cache/meter9/dropout_rate',\n",
       " '/building6/elec/cache/meter9/good_sections',\n",
       " '/building6/elec/cache/meter9/total_energy',\n",
       " '/building6/elec/cache/meter8/dropout_rate',\n",
       " '/building6/elec/cache/meter8/good_sections',\n",
       " '/building6/elec/cache/meter8/total_energy',\n",
       " '/building6/elec/cache/meter7/dropout_rate',\n",
       " '/building6/elec/cache/meter7/good_sections',\n",
       " '/building6/elec/cache/meter7/total_energy',\n",
       " '/building6/elec/cache/meter6/dropout_rate',\n",
       " '/building6/elec/cache/meter6/good_sections',\n",
       " '/building6/elec/cache/meter6/total_energy',\n",
       " '/building6/elec/cache/meter5/dropout_rate',\n",
       " '/building6/elec/cache/meter5/good_sections',\n",
       " '/building6/elec/cache/meter5/total_energy',\n",
       " '/building6/elec/cache/meter4/dropout_rate',\n",
       " '/building6/elec/cache/meter4/good_sections',\n",
       " '/building6/elec/cache/meter4/total_energy',\n",
       " '/building6/elec/cache/meter3/dropout_rate',\n",
       " '/building6/elec/cache/meter3/good_sections',\n",
       " '/building6/elec/cache/meter3/total_energy',\n",
       " '/building6/elec/cache/meter2/dropout_rate',\n",
       " '/building6/elec/cache/meter2/good_sections',\n",
       " '/building6/elec/cache/meter2/total_energy',\n",
       " '/building6/elec/cache/meter10/dropout_rate',\n",
       " '/building6/elec/cache/meter10/good_sections',\n",
       " '/building6/elec/cache/meter10/total_energy',\n",
       " '/building6/elec/cache/meter1/dropout_rate',\n",
       " '/building6/elec/cache/meter1/good_sections',\n",
       " '/building6/elec/cache/meter1/total_energy',\n",
       " '/building5/elec/meter1',\n",
       " '/building5/elec/meter10',\n",
       " '/building5/elec/meter2',\n",
       " '/building5/elec/meter3',\n",
       " '/building5/elec/meter4',\n",
       " '/building5/elec/meter5',\n",
       " '/building5/elec/meter6',\n",
       " '/building5/elec/meter7',\n",
       " '/building5/elec/meter8',\n",
       " '/building5/elec/meter9',\n",
       " '/building5/elec/cache/meter9/dropout_rate',\n",
       " '/building5/elec/cache/meter9/good_sections',\n",
       " '/building5/elec/cache/meter9/total_energy',\n",
       " '/building5/elec/cache/meter8/dropout_rate',\n",
       " '/building5/elec/cache/meter8/good_sections',\n",
       " '/building5/elec/cache/meter8/total_energy',\n",
       " '/building5/elec/cache/meter7/dropout_rate',\n",
       " '/building5/elec/cache/meter7/good_sections',\n",
       " '/building5/elec/cache/meter7/total_energy',\n",
       " '/building5/elec/cache/meter6/dropout_rate',\n",
       " '/building5/elec/cache/meter6/good_sections',\n",
       " '/building5/elec/cache/meter6/total_energy',\n",
       " '/building5/elec/cache/meter5/dropout_rate',\n",
       " '/building5/elec/cache/meter5/good_sections',\n",
       " '/building5/elec/cache/meter5/total_energy',\n",
       " '/building5/elec/cache/meter4/dropout_rate',\n",
       " '/building5/elec/cache/meter4/good_sections',\n",
       " '/building5/elec/cache/meter4/total_energy',\n",
       " '/building5/elec/cache/meter3/dropout_rate',\n",
       " '/building5/elec/cache/meter3/good_sections',\n",
       " '/building5/elec/cache/meter3/total_energy',\n",
       " '/building5/elec/cache/meter2/dropout_rate',\n",
       " '/building5/elec/cache/meter2/good_sections',\n",
       " '/building5/elec/cache/meter2/total_energy',\n",
       " '/building5/elec/cache/meter10/dropout_rate',\n",
       " '/building5/elec/cache/meter10/good_sections',\n",
       " '/building5/elec/cache/meter10/total_energy',\n",
       " '/building5/elec/cache/meter1/dropout_rate',\n",
       " '/building5/elec/cache/meter1/good_sections',\n",
       " '/building5/elec/cache/meter1/total_energy',\n",
       " '/building4/elec/meter1',\n",
       " '/building4/elec/meter10',\n",
       " '/building4/elec/meter2',\n",
       " '/building4/elec/meter3',\n",
       " '/building4/elec/meter4',\n",
       " '/building4/elec/meter5',\n",
       " '/building4/elec/meter6',\n",
       " '/building4/elec/meter7',\n",
       " '/building4/elec/meter8',\n",
       " '/building4/elec/meter9',\n",
       " '/building4/elec/cache/meter9/dropout_rate',\n",
       " '/building4/elec/cache/meter9/good_sections',\n",
       " '/building4/elec/cache/meter9/total_energy',\n",
       " '/building4/elec/cache/meter8/dropout_rate',\n",
       " '/building4/elec/cache/meter8/good_sections',\n",
       " '/building4/elec/cache/meter8/total_energy',\n",
       " '/building4/elec/cache/meter7/dropout_rate',\n",
       " '/building4/elec/cache/meter7/good_sections',\n",
       " '/building4/elec/cache/meter7/total_energy',\n",
       " '/building4/elec/cache/meter6/dropout_rate',\n",
       " '/building4/elec/cache/meter6/good_sections',\n",
       " '/building4/elec/cache/meter6/total_energy',\n",
       " '/building4/elec/cache/meter5/dropout_rate',\n",
       " '/building4/elec/cache/meter5/good_sections',\n",
       " '/building4/elec/cache/meter5/total_energy',\n",
       " '/building4/elec/cache/meter4/dropout_rate',\n",
       " '/building4/elec/cache/meter4/good_sections',\n",
       " '/building4/elec/cache/meter4/total_energy',\n",
       " '/building4/elec/cache/meter3/dropout_rate',\n",
       " '/building4/elec/cache/meter3/good_sections',\n",
       " '/building4/elec/cache/meter3/total_energy',\n",
       " '/building4/elec/cache/meter2/dropout_rate',\n",
       " '/building4/elec/cache/meter2/good_sections',\n",
       " '/building4/elec/cache/meter2/total_energy',\n",
       " '/building4/elec/cache/meter10/dropout_rate',\n",
       " '/building4/elec/cache/meter10/good_sections',\n",
       " '/building4/elec/cache/meter10/total_energy',\n",
       " '/building4/elec/cache/meter1/dropout_rate',\n",
       " '/building4/elec/cache/meter1/good_sections',\n",
       " '/building4/elec/cache/meter1/total_energy',\n",
       " '/building3/elec/meter1',\n",
       " '/building3/elec/meter10',\n",
       " '/building3/elec/meter2',\n",
       " '/building3/elec/meter3',\n",
       " '/building3/elec/meter4',\n",
       " '/building3/elec/meter5',\n",
       " '/building3/elec/meter6',\n",
       " '/building3/elec/meter7',\n",
       " '/building3/elec/meter8',\n",
       " '/building3/elec/meter9',\n",
       " '/building3/elec/cache/meter9/dropout_rate',\n",
       " '/building3/elec/cache/meter9/good_sections',\n",
       " '/building3/elec/cache/meter9/total_energy',\n",
       " '/building3/elec/cache/meter8/dropout_rate',\n",
       " '/building3/elec/cache/meter8/good_sections',\n",
       " '/building3/elec/cache/meter8/total_energy',\n",
       " '/building3/elec/cache/meter7/dropout_rate',\n",
       " '/building3/elec/cache/meter7/good_sections',\n",
       " '/building3/elec/cache/meter7/total_energy',\n",
       " '/building3/elec/cache/meter6/dropout_rate',\n",
       " '/building3/elec/cache/meter6/good_sections',\n",
       " '/building3/elec/cache/meter6/total_energy',\n",
       " '/building3/elec/cache/meter5/dropout_rate',\n",
       " '/building3/elec/cache/meter5/good_sections',\n",
       " '/building3/elec/cache/meter5/total_energy',\n",
       " '/building3/elec/cache/meter4/dropout_rate',\n",
       " '/building3/elec/cache/meter4/good_sections',\n",
       " '/building3/elec/cache/meter4/total_energy',\n",
       " '/building3/elec/cache/meter3/dropout_rate',\n",
       " '/building3/elec/cache/meter3/good_sections',\n",
       " '/building3/elec/cache/meter3/total_energy',\n",
       " '/building3/elec/cache/meter2/dropout_rate',\n",
       " '/building3/elec/cache/meter2/good_sections',\n",
       " '/building3/elec/cache/meter2/total_energy',\n",
       " '/building3/elec/cache/meter10/dropout_rate',\n",
       " '/building3/elec/cache/meter10/good_sections',\n",
       " '/building3/elec/cache/meter10/total_energy',\n",
       " '/building3/elec/cache/meter1/dropout_rate',\n",
       " '/building3/elec/cache/meter1/good_sections',\n",
       " '/building3/elec/cache/meter1/total_energy',\n",
       " '/building20/elec/meter1',\n",
       " '/building20/elec/meter10',\n",
       " '/building20/elec/meter2',\n",
       " '/building20/elec/meter3',\n",
       " '/building20/elec/meter4',\n",
       " '/building20/elec/meter5',\n",
       " '/building20/elec/meter6',\n",
       " '/building20/elec/meter7',\n",
       " '/building20/elec/meter8',\n",
       " '/building20/elec/meter9',\n",
       " '/building20/elec/cache/meter9/total_energy',\n",
       " '/building20/elec/cache/meter8/total_energy',\n",
       " '/building20/elec/cache/meter7/total_energy',\n",
       " '/building20/elec/cache/meter6/total_energy',\n",
       " '/building20/elec/cache/meter5/total_energy',\n",
       " '/building20/elec/cache/meter4/total_energy',\n",
       " '/building20/elec/cache/meter3/total_energy',\n",
       " '/building20/elec/cache/meter2/total_energy',\n",
       " '/building20/elec/cache/meter10/total_energy',\n",
       " '/building20/elec/cache/meter1/good_sections',\n",
       " '/building20/elec/cache/meter1/total_energy',\n",
       " '/building2/elec/meter1',\n",
       " '/building2/elec/meter10',\n",
       " '/building2/elec/meter2',\n",
       " '/building2/elec/meter3',\n",
       " '/building2/elec/meter4',\n",
       " '/building2/elec/meter5',\n",
       " '/building2/elec/meter6',\n",
       " '/building2/elec/meter7',\n",
       " '/building2/elec/meter8',\n",
       " '/building2/elec/meter9',\n",
       " '/building2/elec/cache/meter9/dropout_rate',\n",
       " '/building2/elec/cache/meter9/good_sections',\n",
       " '/building2/elec/cache/meter9/total_energy',\n",
       " '/building2/elec/cache/meter8/dropout_rate',\n",
       " '/building2/elec/cache/meter8/good_sections',\n",
       " '/building2/elec/cache/meter8/total_energy',\n",
       " '/building2/elec/cache/meter7/dropout_rate',\n",
       " '/building2/elec/cache/meter7/good_sections',\n",
       " '/building2/elec/cache/meter7/total_energy',\n",
       " '/building2/elec/cache/meter6/dropout_rate',\n",
       " '/building2/elec/cache/meter6/good_sections',\n",
       " '/building2/elec/cache/meter6/total_energy',\n",
       " '/building2/elec/cache/meter5/dropout_rate',\n",
       " '/building2/elec/cache/meter5/good_sections',\n",
       " '/building2/elec/cache/meter5/total_energy',\n",
       " '/building2/elec/cache/meter4/dropout_rate',\n",
       " '/building2/elec/cache/meter4/good_sections',\n",
       " '/building2/elec/cache/meter4/total_energy',\n",
       " '/building2/elec/cache/meter3/dropout_rate',\n",
       " '/building2/elec/cache/meter3/good_sections',\n",
       " '/building2/elec/cache/meter3/total_energy',\n",
       " '/building2/elec/cache/meter2/dropout_rate',\n",
       " '/building2/elec/cache/meter2/good_sections',\n",
       " '/building2/elec/cache/meter2/total_energy',\n",
       " '/building2/elec/cache/meter10/dropout_rate',\n",
       " '/building2/elec/cache/meter10/good_sections',\n",
       " '/building2/elec/cache/meter10/total_energy',\n",
       " '/building2/elec/cache/meter1/dropout_rate',\n",
       " '/building2/elec/cache/meter1/good_sections',\n",
       " '/building2/elec/cache/meter1/total_energy',\n",
       " '/building19/elec/meter1',\n",
       " '/building19/elec/meter10',\n",
       " '/building19/elec/meter2',\n",
       " '/building19/elec/meter3',\n",
       " '/building19/elec/meter4',\n",
       " '/building19/elec/meter5',\n",
       " '/building19/elec/meter6',\n",
       " '/building19/elec/meter7',\n",
       " '/building19/elec/meter8',\n",
       " '/building19/elec/meter9',\n",
       " '/building19/elec/cache/meter9/total_energy',\n",
       " '/building19/elec/cache/meter8/total_energy',\n",
       " '/building19/elec/cache/meter7/total_energy',\n",
       " '/building19/elec/cache/meter6/total_energy',\n",
       " '/building19/elec/cache/meter5/total_energy',\n",
       " '/building19/elec/cache/meter4/total_energy',\n",
       " '/building19/elec/cache/meter3/total_energy',\n",
       " '/building19/elec/cache/meter2/total_energy',\n",
       " '/building19/elec/cache/meter10/total_energy',\n",
       " '/building19/elec/cache/meter1/good_sections',\n",
       " '/building19/elec/cache/meter1/total_energy',\n",
       " '/building18/elec/meter1',\n",
       " '/building18/elec/meter10',\n",
       " '/building18/elec/meter2',\n",
       " '/building18/elec/meter3',\n",
       " '/building18/elec/meter4',\n",
       " '/building18/elec/meter5',\n",
       " '/building18/elec/meter6',\n",
       " '/building18/elec/meter7',\n",
       " '/building18/elec/meter8',\n",
       " '/building18/elec/meter9',\n",
       " '/building18/elec/cache/meter9/total_energy',\n",
       " '/building18/elec/cache/meter8/total_energy',\n",
       " '/building18/elec/cache/meter7/total_energy',\n",
       " '/building18/elec/cache/meter6/total_energy',\n",
       " '/building18/elec/cache/meter5/total_energy',\n",
       " '/building18/elec/cache/meter4/total_energy',\n",
       " '/building18/elec/cache/meter3/total_energy',\n",
       " '/building18/elec/cache/meter2/total_energy',\n",
       " '/building18/elec/cache/meter10/total_energy',\n",
       " '/building18/elec/cache/meter1/good_sections',\n",
       " '/building18/elec/cache/meter1/total_energy',\n",
       " '/building17/elec/meter1',\n",
       " '/building17/elec/meter10',\n",
       " '/building17/elec/meter2',\n",
       " '/building17/elec/meter3',\n",
       " '/building17/elec/meter4',\n",
       " '/building17/elec/meter5',\n",
       " '/building17/elec/meter6',\n",
       " '/building17/elec/meter7',\n",
       " '/building17/elec/meter8',\n",
       " '/building17/elec/meter9',\n",
       " '/building17/elec/cache/meter9/total_energy',\n",
       " '/building17/elec/cache/meter8/total_energy',\n",
       " '/building17/elec/cache/meter7/total_energy',\n",
       " '/building17/elec/cache/meter6/total_energy',\n",
       " '/building17/elec/cache/meter5/total_energy',\n",
       " '/building17/elec/cache/meter4/total_energy',\n",
       " '/building17/elec/cache/meter3/total_energy',\n",
       " '/building17/elec/cache/meter2/total_energy',\n",
       " '/building17/elec/cache/meter10/total_energy',\n",
       " '/building17/elec/cache/meter1/good_sections',\n",
       " '/building17/elec/cache/meter1/total_energy',\n",
       " '/building16/elec/meter1',\n",
       " '/building16/elec/meter10',\n",
       " '/building16/elec/meter2',\n",
       " '/building16/elec/meter3',\n",
       " '/building16/elec/meter4',\n",
       " '/building16/elec/meter5',\n",
       " '/building16/elec/meter6',\n",
       " '/building16/elec/meter7',\n",
       " '/building16/elec/meter8',\n",
       " '/building16/elec/meter9',\n",
       " '/building16/elec/cache/meter9/total_energy',\n",
       " '/building16/elec/cache/meter8/total_energy',\n",
       " '/building16/elec/cache/meter7/total_energy',\n",
       " '/building16/elec/cache/meter6/total_energy',\n",
       " '/building16/elec/cache/meter5/total_energy',\n",
       " '/building16/elec/cache/meter4/total_energy',\n",
       " '/building16/elec/cache/meter3/total_energy',\n",
       " '/building16/elec/cache/meter2/total_energy',\n",
       " '/building16/elec/cache/meter10/total_energy',\n",
       " '/building16/elec/cache/meter1/good_sections',\n",
       " '/building16/elec/cache/meter1/total_energy',\n",
       " '/building15/elec/meter1',\n",
       " '/building15/elec/meter10',\n",
       " '/building15/elec/meter2',\n",
       " '/building15/elec/meter3',\n",
       " '/building15/elec/meter4',\n",
       " '/building15/elec/meter5',\n",
       " '/building15/elec/meter6',\n",
       " '/building15/elec/meter7',\n",
       " '/building15/elec/meter8',\n",
       " '/building15/elec/meter9',\n",
       " '/building15/elec/cache/meter9/total_energy',\n",
       " '/building15/elec/cache/meter8/total_energy',\n",
       " '/building15/elec/cache/meter7/total_energy',\n",
       " '/building15/elec/cache/meter6/total_energy',\n",
       " '/building15/elec/cache/meter5/total_energy',\n",
       " '/building15/elec/cache/meter4/total_energy',\n",
       " '/building15/elec/cache/meter3/total_energy',\n",
       " '/building15/elec/cache/meter2/total_energy',\n",
       " '/building15/elec/cache/meter10/total_energy',\n",
       " '/building15/elec/cache/meter1/good_sections',\n",
       " '/building15/elec/cache/meter1/total_energy',\n",
       " '/building14/elec/meter1',\n",
       " '/building14/elec/meter10',\n",
       " '/building14/elec/meter2',\n",
       " '/building14/elec/meter3',\n",
       " '/building14/elec/meter4',\n",
       " '/building14/elec/meter5',\n",
       " '/building14/elec/meter6',\n",
       " '/building14/elec/meter7',\n",
       " '/building14/elec/meter8',\n",
       " '/building14/elec/meter9',\n",
       " '/building14/elec/cache/meter9/total_energy',\n",
       " '/building14/elec/cache/meter8/total_energy',\n",
       " '/building14/elec/cache/meter7/total_energy',\n",
       " '/building14/elec/cache/meter6/total_energy',\n",
       " '/building14/elec/cache/meter5/total_energy',\n",
       " '/building14/elec/cache/meter4/total_energy',\n",
       " '/building14/elec/cache/meter3/total_energy',\n",
       " '/building14/elec/cache/meter2/total_energy',\n",
       " '/building14/elec/cache/meter10/total_energy',\n",
       " '/building14/elec/cache/meter1/good_sections',\n",
       " '/building14/elec/cache/meter1/total_energy',\n",
       " '/building13/elec/meter1',\n",
       " '/building13/elec/meter10',\n",
       " '/building13/elec/meter2',\n",
       " '/building13/elec/meter3',\n",
       " '/building13/elec/meter4',\n",
       " '/building13/elec/meter5',\n",
       " '/building13/elec/meter6',\n",
       " '/building13/elec/meter7',\n",
       " '/building13/elec/meter8',\n",
       " '/building13/elec/meter9',\n",
       " '/building13/elec/cache/meter9/total_energy',\n",
       " '/building13/elec/cache/meter8/total_energy',\n",
       " '/building13/elec/cache/meter7/total_energy',\n",
       " '/building13/elec/cache/meter6/total_energy',\n",
       " '/building13/elec/cache/meter5/total_energy',\n",
       " '/building13/elec/cache/meter4/total_energy',\n",
       " '/building13/elec/cache/meter3/total_energy',\n",
       " '/building13/elec/cache/meter2/total_energy',\n",
       " '/building13/elec/cache/meter10/total_energy',\n",
       " '/building13/elec/cache/meter1/good_sections',\n",
       " '/building13/elec/cache/meter1/total_energy',\n",
       " '/building12/elec/meter1',\n",
       " '/building12/elec/meter10',\n",
       " '/building12/elec/meter2',\n",
       " '/building12/elec/meter3',\n",
       " '/building12/elec/meter4',\n",
       " '/building12/elec/meter5',\n",
       " '/building12/elec/meter6',\n",
       " '/building12/elec/meter7',\n",
       " '/building12/elec/meter8',\n",
       " '/building12/elec/meter9',\n",
       " '/building12/elec/cache/meter9/total_energy',\n",
       " '/building12/elec/cache/meter8/total_energy',\n",
       " '/building12/elec/cache/meter7/total_energy',\n",
       " '/building12/elec/cache/meter6/total_energy',\n",
       " '/building12/elec/cache/meter5/total_energy',\n",
       " '/building12/elec/cache/meter4/total_energy',\n",
       " '/building12/elec/cache/meter3/total_energy',\n",
       " '/building12/elec/cache/meter2/total_energy',\n",
       " '/building12/elec/cache/meter10/total_energy',\n",
       " '/building12/elec/cache/meter1/good_sections',\n",
       " '/building12/elec/cache/meter1/total_energy',\n",
       " '/building11/elec/meter1',\n",
       " '/building11/elec/meter10',\n",
       " '/building11/elec/meter2',\n",
       " '/building11/elec/meter3',\n",
       " '/building11/elec/meter4',\n",
       " '/building11/elec/meter5',\n",
       " '/building11/elec/meter6',\n",
       " '/building11/elec/meter7',\n",
       " '/building11/elec/meter8',\n",
       " '/building11/elec/meter9',\n",
       " '/building11/elec/cache/meter9/total_energy',\n",
       " '/building11/elec/cache/meter8/total_energy',\n",
       " '/building11/elec/cache/meter7/total_energy',\n",
       " '/building11/elec/cache/meter6/total_energy',\n",
       " '/building11/elec/cache/meter5/total_energy',\n",
       " '/building11/elec/cache/meter4/total_energy',\n",
       " '/building11/elec/cache/meter3/total_energy',\n",
       " '/building11/elec/cache/meter2/total_energy',\n",
       " '/building11/elec/cache/meter10/total_energy',\n",
       " '/building11/elec/cache/meter1/good_sections',\n",
       " '/building11/elec/cache/meter1/total_energy',\n",
       " '/building10/elec/meter1',\n",
       " '/building10/elec/meter10',\n",
       " '/building10/elec/meter2',\n",
       " '/building10/elec/meter3',\n",
       " '/building10/elec/meter4',\n",
       " '/building10/elec/meter5',\n",
       " '/building10/elec/meter6',\n",
       " '/building10/elec/meter7',\n",
       " '/building10/elec/meter8',\n",
       " '/building10/elec/meter9',\n",
       " '/building10/elec/cache/meter9/total_energy',\n",
       " '/building10/elec/cache/meter8/total_energy',\n",
       " '/building10/elec/cache/meter7/total_energy',\n",
       " '/building10/elec/cache/meter6/total_energy',\n",
       " '/building10/elec/cache/meter5/total_energy',\n",
       " '/building10/elec/cache/meter4/total_energy',\n",
       " '/building10/elec/cache/meter3/total_energy',\n",
       " '/building10/elec/cache/meter2/total_energy',\n",
       " '/building10/elec/cache/meter10/total_energy',\n",
       " '/building10/elec/cache/meter1/good_sections',\n",
       " '/building10/elec/cache/meter1/total_energy',\n",
       " '/building1/elec/meter1',\n",
       " '/building1/elec/meter10',\n",
       " '/building1/elec/meter2',\n",
       " '/building1/elec/meter3',\n",
       " '/building1/elec/meter4',\n",
       " '/building1/elec/meter5',\n",
       " '/building1/elec/meter6',\n",
       " '/building1/elec/meter7',\n",
       " '/building1/elec/meter8',\n",
       " '/building1/elec/meter9',\n",
       " '/building1/elec/cache/meter9/dropout_rate',\n",
       " '/building1/elec/cache/meter9/good_sections',\n",
       " '/building1/elec/cache/meter9/total_energy',\n",
       " '/building1/elec/cache/meter8/dropout_rate',\n",
       " '/building1/elec/cache/meter8/good_sections',\n",
       " '/building1/elec/cache/meter8/total_energy',\n",
       " '/building1/elec/cache/meter7/dropout_rate',\n",
       " '/building1/elec/cache/meter7/good_sections',\n",
       " '/building1/elec/cache/meter7/total_energy',\n",
       " '/building1/elec/cache/meter6/dropout_rate',\n",
       " '/building1/elec/cache/meter6/good_sections',\n",
       " '/building1/elec/cache/meter6/total_energy',\n",
       " '/building1/elec/cache/meter5/dropout_rate',\n",
       " '/building1/elec/cache/meter5/good_sections',\n",
       " '/building1/elec/cache/meter5/total_energy',\n",
       " '/building1/elec/cache/meter4/dropout_rate',\n",
       " '/building1/elec/cache/meter4/good_sections',\n",
       " '/building1/elec/cache/meter4/total_energy',\n",
       " '/building1/elec/cache/meter3/dropout_rate',\n",
       " '/building1/elec/cache/meter3/good_sections',\n",
       " '/building1/elec/cache/meter3/total_energy',\n",
       " '/building1/elec/cache/meter2/dropout_rate',\n",
       " '/building1/elec/cache/meter2/good_sections',\n",
       " '/building1/elec/cache/meter2/total_energy',\n",
       " '/building1/elec/cache/meter10/dropout_rate',\n",
       " '/building1/elec/cache/meter10/good_sections',\n",
       " '/building1/elec/cache/meter10/total_energy',\n",
       " '/building1/elec/cache/meter1/dropout_rate',\n",
       " '/building1/elec/cache/meter1/good_sections',\n",
       " '/building1/elec/cache/meter1/total_energy']"
      ]
     },
     "execution_count": 64,
     "metadata": {},
     "output_type": "execute_result"
    }
   ],
   "source": [
    "hdf.keys()"
   ]
  },
  {
   "cell_type": "code",
   "execution_count": 67,
   "metadata": {},
   "outputs": [
    {
     "data": {
      "text/html": [
       "<div>\n",
       "<style scoped>\n",
       "    .dataframe tbody tr th:only-of-type {\n",
       "        vertical-align: middle;\n",
       "    }\n",
       "\n",
       "    .dataframe tbody tr th {\n",
       "        vertical-align: top;\n",
       "    }\n",
       "\n",
       "    .dataframe thead th {\n",
       "        text-align: right;\n",
       "    }\n",
       "</style>\n",
       "<table border=\"1\" class=\"dataframe\">\n",
       "  <thead>\n",
       "    <tr style=\"text-align: right;\">\n",
       "      <th></th>\n",
       "      <th>active</th>\n",
       "      <th>end</th>\n",
       "    </tr>\n",
       "  </thead>\n",
       "  <tbody>\n",
       "    <tr>\n",
       "      <th>2013-12-18 03:24:43+00:00</th>\n",
       "      <td>0.000514</td>\n",
       "      <td>2013-12-18 03:31:07+00:00</td>\n",
       "    </tr>\n",
       "    <tr>\n",
       "      <th>2013-12-18 03:48:01+00:00</th>\n",
       "      <td>0.132217</td>\n",
       "      <td>2013-12-19 06:14:40+00:00</td>\n",
       "    </tr>\n",
       "    <tr>\n",
       "      <th>2013-12-19 06:23:17+00:00</th>\n",
       "      <td>0.009775</td>\n",
       "      <td>2013-12-19 08:20:39+00:00</td>\n",
       "    </tr>\n",
       "    <tr>\n",
       "      <th>2013-12-19 08:23:22+00:00</th>\n",
       "      <td>0.000069</td>\n",
       "      <td>2013-12-19 08:24:14+00:00</td>\n",
       "    </tr>\n",
       "    <tr>\n",
       "      <th>2013-12-19 08:28:15+00:00</th>\n",
       "      <td>0.000179</td>\n",
       "      <td>2013-12-19 08:30:26+00:00</td>\n",
       "    </tr>\n",
       "    <tr>\n",
       "      <th>...</th>\n",
       "      <td>...</td>\n",
       "      <td>...</td>\n",
       "    </tr>\n",
       "    <tr>\n",
       "      <th>2015-07-03 01:38:07+01:00</th>\n",
       "      <td>0.512876</td>\n",
       "      <td>2015-07-07 08:12:45+01:00</td>\n",
       "    </tr>\n",
       "    <tr>\n",
       "      <th>2015-07-07 08:15:09+01:00</th>\n",
       "      <td>0.001028</td>\n",
       "      <td>2015-07-07 08:27:36+01:00</td>\n",
       "    </tr>\n",
       "    <tr>\n",
       "      <th>2015-07-07 08:30:14+01:00</th>\n",
       "      <td>0.010586</td>\n",
       "      <td>2015-07-07 10:37:23+01:00</td>\n",
       "    </tr>\n",
       "    <tr>\n",
       "      <th>2015-07-07 10:42:09+01:00</th>\n",
       "      <td>0.082389</td>\n",
       "      <td>2015-07-08 03:10:56+01:00</td>\n",
       "    </tr>\n",
       "    <tr>\n",
       "      <th>2015-07-08 04:48:12+01:00</th>\n",
       "      <td>0.075386</td>\n",
       "      <td>2015-07-08 19:52:50+01:00</td>\n",
       "    </tr>\n",
       "  </tbody>\n",
       "</table>\n",
       "<p>305 rows × 2 columns</p>\n",
       "</div>"
      ],
      "text/plain": [
       "                             active                       end\n",
       "2013-12-18 03:24:43+00:00  0.000514 2013-12-18 03:31:07+00:00\n",
       "2013-12-18 03:48:01+00:00  0.132217 2013-12-19 06:14:40+00:00\n",
       "2013-12-19 06:23:17+00:00  0.009775 2013-12-19 08:20:39+00:00\n",
       "2013-12-19 08:23:22+00:00  0.000069 2013-12-19 08:24:14+00:00\n",
       "2013-12-19 08:28:15+00:00  0.000179 2013-12-19 08:30:26+00:00\n",
       "...                             ...                       ...\n",
       "2015-07-03 01:38:07+01:00  0.512876 2015-07-07 08:12:45+01:00\n",
       "2015-07-07 08:15:09+01:00  0.001028 2015-07-07 08:27:36+01:00\n",
       "2015-07-07 08:30:14+01:00  0.010586 2015-07-07 10:37:23+01:00\n",
       "2015-07-07 10:42:09+01:00  0.082389 2015-07-08 03:10:56+01:00\n",
       "2015-07-08 04:48:12+01:00  0.075386 2015-07-08 19:52:50+01:00\n",
       "\n",
       "[305 rows x 2 columns]"
      ]
     },
     "execution_count": 67,
     "metadata": {},
     "output_type": "execute_result"
    }
   ],
   "source": [
    "# Kinda worthless... start & end expects integers, but does not show any changes in rows\n",
    "hdf.select(key=\"building9/elec/cache/meter9/total_energy\", start=1, end=2)  "
   ]
  },
  {
   "cell_type": "code",
   "execution_count": 71,
   "metadata": {},
   "outputs": [
    {
     "data": {
      "text/html": [
       "<div>\n",
       "<style scoped>\n",
       "    .dataframe tbody tr th:only-of-type {\n",
       "        vertical-align: middle;\n",
       "    }\n",
       "\n",
       "    .dataframe tbody tr th {\n",
       "        vertical-align: top;\n",
       "    }\n",
       "\n",
       "    .dataframe thead th {\n",
       "        text-align: right;\n",
       "    }\n",
       "</style>\n",
       "<table border=\"1\" class=\"dataframe\">\n",
       "  <thead>\n",
       "    <tr style=\"text-align: right;\">\n",
       "      <th></th>\n",
       "      <th>active</th>\n",
       "      <th>end</th>\n",
       "    </tr>\n",
       "  </thead>\n",
       "  <tbody>\n",
       "    <tr>\n",
       "      <th>2013-12-18 03:24:43+00:00</th>\n",
       "      <td>0.000514</td>\n",
       "      <td>2013-12-18 03:31:07+00:00</td>\n",
       "    </tr>\n",
       "    <tr>\n",
       "      <th>2013-12-18 03:48:01+00:00</th>\n",
       "      <td>0.132217</td>\n",
       "      <td>2013-12-19 06:14:40+00:00</td>\n",
       "    </tr>\n",
       "    <tr>\n",
       "      <th>2013-12-19 06:23:17+00:00</th>\n",
       "      <td>0.009775</td>\n",
       "      <td>2013-12-19 08:20:39+00:00</td>\n",
       "    </tr>\n",
       "    <tr>\n",
       "      <th>2013-12-19 08:23:22+00:00</th>\n",
       "      <td>0.000069</td>\n",
       "      <td>2013-12-19 08:24:14+00:00</td>\n",
       "    </tr>\n",
       "    <tr>\n",
       "      <th>2013-12-19 08:28:15+00:00</th>\n",
       "      <td>0.000179</td>\n",
       "      <td>2013-12-19 08:30:26+00:00</td>\n",
       "    </tr>\n",
       "    <tr>\n",
       "      <th>...</th>\n",
       "      <td>...</td>\n",
       "      <td>...</td>\n",
       "    </tr>\n",
       "    <tr>\n",
       "      <th>2015-07-03 01:38:07+01:00</th>\n",
       "      <td>0.512876</td>\n",
       "      <td>2015-07-07 08:12:45+01:00</td>\n",
       "    </tr>\n",
       "    <tr>\n",
       "      <th>2015-07-07 08:15:09+01:00</th>\n",
       "      <td>0.001028</td>\n",
       "      <td>2015-07-07 08:27:36+01:00</td>\n",
       "    </tr>\n",
       "    <tr>\n",
       "      <th>2015-07-07 08:30:14+01:00</th>\n",
       "      <td>0.010586</td>\n",
       "      <td>2015-07-07 10:37:23+01:00</td>\n",
       "    </tr>\n",
       "    <tr>\n",
       "      <th>2015-07-07 10:42:09+01:00</th>\n",
       "      <td>0.082389</td>\n",
       "      <td>2015-07-08 03:10:56+01:00</td>\n",
       "    </tr>\n",
       "    <tr>\n",
       "      <th>2015-07-08 04:48:12+01:00</th>\n",
       "      <td>0.075386</td>\n",
       "      <td>2015-07-08 19:52:50+01:00</td>\n",
       "    </tr>\n",
       "  </tbody>\n",
       "</table>\n",
       "<p>305 rows × 2 columns</p>\n",
       "</div>"
      ],
      "text/plain": [
       "                             active                       end\n",
       "2013-12-18 03:24:43+00:00  0.000514 2013-12-18 03:31:07+00:00\n",
       "2013-12-18 03:48:01+00:00  0.132217 2013-12-19 06:14:40+00:00\n",
       "2013-12-19 06:23:17+00:00  0.009775 2013-12-19 08:20:39+00:00\n",
       "2013-12-19 08:23:22+00:00  0.000069 2013-12-19 08:24:14+00:00\n",
       "2013-12-19 08:28:15+00:00  0.000179 2013-12-19 08:30:26+00:00\n",
       "...                             ...                       ...\n",
       "2015-07-03 01:38:07+01:00  0.512876 2015-07-07 08:12:45+01:00\n",
       "2015-07-07 08:15:09+01:00  0.001028 2015-07-07 08:27:36+01:00\n",
       "2015-07-07 08:30:14+01:00  0.010586 2015-07-07 10:37:23+01:00\n",
       "2015-07-07 10:42:09+01:00  0.082389 2015-07-08 03:10:56+01:00\n",
       "2015-07-08 04:48:12+01:00  0.075386 2015-07-08 19:52:50+01:00\n",
       "\n",
       "[305 rows x 2 columns]"
      ]
     },
     "execution_count": 71,
     "metadata": {},
     "output_type": "execute_result"
    }
   ],
   "source": [
    "# same as above\n",
    "pd.read_hdf(hdf, key=\"building9/elec/cache/meter9/total_energy\", start=1, end=3)\n"
   ]
  },
  {
   "attachments": {},
   "cell_type": "markdown",
   "metadata": {},
   "source": [
    "## Experimentation API"
   ]
  },
  {
   "cell_type": "code",
   "execution_count": 77,
   "metadata": {},
   "outputs": [],
   "source": [
    "from nilmtk.api import API\n",
    "from nilmtk.disaggregate import CO\n",
    "import warnings\n",
    "warnings.filterwarnings(\"ignore\")"
   ]
  },
  {
   "cell_type": "code",
   "execution_count": 93,
   "metadata": {},
   "outputs": [],
   "source": [
    "experiment1 = {\n",
    "  'power': {'mains': ['apparent','active'],'appliance': ['apparent','active']},\n",
    "  'sample_rate': 60,\n",
    "  'appliances': ['toaster','freezer'],\n",
    "  'chunksize': 1000,\n",
    "  'methods': {\"CO\":CO({})},\n",
    "  'train': {    \n",
    "    'datasets': {\n",
    "        'Dataport': {\n",
    "            'path': DATA_PATH,\n",
    "            'buildings': {\n",
    "                10: {\n",
    "                    'start_time': '2014-01-01',\n",
    "                    'end_time': '2014-01-04'\n",
    "                    }\n",
    "                }                \n",
    "            }\n",
    "        }\n",
    "    },\n",
    "  'test': {\n",
    "    'datasets': {\n",
    "        'Dataport': {\n",
    "            'path': DATA_PATH,\n",
    "            'buildings': {\n",
    "                10: {\n",
    "                    'start_time': '2014-01-04',\n",
    "                    'end_time': '2014-01-05'\n",
    "                    }\n",
    "                }\n",
    "            }\n",
    "        },\n",
    "        'metrics':['rmse', 'f1score']\n",
    "    }\n",
    "}"
   ]
  },
  {
   "cell_type": "code",
   "execution_count": 94,
   "metadata": {},
   "outputs": [
    {
     "name": "stdout",
     "output_type": "stream",
     "text": [
      "Joint Testing for all algorithms\n",
      "Loading data for  Dataport  dataset\n",
      "WARNING: search terms match 1 appliances. Instance 0 was selected\n",
      "WARNING: search terms match 2 appliances. Instance 0 was selected\n",
      "Dropping missing values\n",
      "Generating predictions for : CO\n",
      "...............CO disaggregate_chunk running.............\n",
      "............  rmse  ..............er'\n",
      "                CO\n",
      "toaster  42.740168\n",
      "freezer  61.954904\n",
      "............  f1score  ..............\n",
      "               CO\n",
      "toaster  0.777070\n",
      "freezer  0.575668\n"
     ]
    }
   ],
   "source": [
    "api_results_experiment_1 = API(experiment1)"
   ]
  },
  {
   "cell_type": "code",
   "execution_count": 95,
   "metadata": {},
   "outputs": [
    {
     "data": {
      "text/plain": [
       "['DROP_ALL_NANS',\n",
       " 'appliances',\n",
       " 'artificial_aggregate',\n",
       " 'call_predict',\n",
       " 'chunk_size',\n",
       " 'classifiers',\n",
       " 'compute_loss',\n",
       " 'display_predictions',\n",
       " 'dropna',\n",
       " 'errors',\n",
       " 'errors_keys',\n",
       " 'experiment',\n",
       " 'gt_overall',\n",
       " 'methods',\n",
       " 'metrics',\n",
       " 'power',\n",
       " 'pred_overall',\n",
       " 'predict',\n",
       " 'sample_period',\n",
       " 'site_only',\n",
       " 'store_classifier_instances',\n",
       " 'storing_key',\n",
       " 'test_chunk_wise',\n",
       " 'test_datasets_dict',\n",
       " 'test_jointly',\n",
       " 'test_mains',\n",
       " 'test_submeters',\n",
       " 'train_chunk_wise',\n",
       " 'train_datasets_dict',\n",
       " 'train_jointly',\n",
       " 'train_mains',\n",
       " 'train_submeters']"
      ]
     },
     "execution_count": 95,
     "metadata": {},
     "output_type": "execute_result"
    }
   ],
   "source": [
    "ndir(api_results_experiment_1)"
   ]
  },
  {
   "cell_type": "code",
   "execution_count": 96,
   "metadata": {},
   "outputs": [
    {
     "data": {
      "text/plain": [
       "{'CO':                            toaster  freezer\n",
       " Unix                                       \n",
       " 2014-01-04 00:00:00+00:00     70.0     79.0\n",
       " 2014-01-04 00:01:00+00:00     70.0     79.0\n",
       " 2014-01-04 00:02:00+00:00     70.0     79.0\n",
       " 2014-01-04 00:03:00+00:00     70.0     79.0\n",
       " 2014-01-04 00:04:00+00:00     70.0     79.0\n",
       " ...                            ...      ...\n",
       " 2014-01-04 23:55:00+00:00     70.0     79.0\n",
       " 2014-01-04 23:56:00+00:00     70.0     79.0\n",
       " 2014-01-04 23:57:00+00:00     70.0     79.0\n",
       " 2014-01-04 23:58:00+00:00     70.0     79.0\n",
       " 2014-01-04 23:59:00+00:00     70.0     79.0\n",
       " \n",
       " [1440 rows x 2 columns]}"
      ]
     },
     "execution_count": 96,
     "metadata": {},
     "output_type": "execute_result"
    }
   ],
   "source": [
    "api_results_experiment_1.pred_overall"
   ]
  }
 ],
 "metadata": {
  "kernelspec": {
   "display_name": "energy_env",
   "language": "python",
   "name": "python3"
  },
  "language_info": {
   "codemirror_mode": {
    "name": "ipython",
    "version": 3
   },
   "file_extension": ".py",
   "mimetype": "text/x-python",
   "name": "python",
   "nbconvert_exporter": "python",
   "pygments_lexer": "ipython3",
   "version": "3.8.16"
  },
  "orig_nbformat": 4
 },
 "nbformat": 4,
 "nbformat_minor": 2
}
