{
 "cells": [
  {
   "attachments": {},
   "cell_type": "markdown",
   "metadata": {},
   "source": [
    "# Try out stuff..."
   ]
  },
  {
   "attachments": {},
   "cell_type": "markdown",
   "metadata": {},
   "source": [
    "## General Stuff"
   ]
  },
  {
   "cell_type": "code",
   "execution_count": 1,
   "metadata": {},
   "outputs": [],
   "source": [
    "import matplotlib.pyplot as plt\n",
    "import seaborn as sns\n",
    "import pandas as pd \n",
    "\n",
    "plt.style.use(\"ggplot\")"
   ]
  },
  {
   "cell_type": "code",
   "execution_count": 2,
   "metadata": {},
   "outputs": [],
   "source": [
    "from pathlib import Path\n",
    "DATA_PATH = Path(\"../data/REFIT.h5\").absolute().__str__()\n",
    "\n",
    "from nilmtk import DataSet\n",
    "refit = DataSet(DATA_PATH, format=\"HDF\")        # hierarchical data frame  "
   ]
  },
  {
   "cell_type": "code",
   "execution_count": 3,
   "metadata": {},
   "outputs": [
    {
     "data": {
      "text/plain": [
       "['_init_buildings',\n",
       " 'buildings',\n",
       " 'clear_cache',\n",
       " 'describe',\n",
       " 'elecs',\n",
       " 'get_activity_script',\n",
       " 'import_metadata',\n",
       " 'metadata',\n",
       " 'plot_good_sections',\n",
       " 'plot_mains_power_histograms',\n",
       " 'save',\n",
       " 'set_window',\n",
       " 'store']"
      ]
     },
     "execution_count": 3,
     "metadata": {},
     "output_type": "execute_result"
    }
   ],
   "source": [
    "def ndir(x):\n",
    "    \"\"\" Show properties and methods with no magic methods \"\"\"\n",
    "    return [x for x in dir(x) if not x.__contains__(\"__\")]\n",
    "\n",
    "ndir(refit)"
   ]
  },
  {
   "cell_type": "code",
   "execution_count": 43,
   "metadata": {},
   "outputs": [
    {
     "data": {
      "text/html": [
       "<ul><li><strong>name</strong>: REFIT</li><li><strong>long_name</strong>: REFIT Electrical Load Measurements dataset</li><li><strong>creators</strong>: <ul><li>Murray, David</li><li>Stankovic, Lina</li></ul></li><li><strong>publication_date</strong>: 2015</li><li><strong>institution</strong>: University of Strathclyde</li><li><strong>contact</strong>: david.murray.2013@uni.strath.ac.uk</li><li><strong>description</strong>: Up to 2 years of power data for 20 UK homes.</li><li><strong>subject</strong>: Disaggregated power demand from domestic buildings.</li><li><strong>number_of_buildings</strong>: 20</li><li><strong>timezone</strong>: Europe/London</li><li><strong>geo_location</strong>: <ul><li><strong>locality</strong>: Loughborough</li><li><strong>country</strong>: UK</li><li><strong>latitude</strong>: 52.769655</li><li><strong>longitude</strong>: -1.225061</li></ul></li><li><strong>related_documents</strong>: <ul><li><a href=\"http://iet.jrc.ec.europa.eu/energyefficiency/sites/energyefficiency/files/events/EEDAL15/S25_Smart_Meters/eedal15_submission_124.pdf\">http://iet.jrc.ec.europa.eu/energyefficiency/sites/energyefficiency/files/events/EEDAL15/S25_Smart_Meters/eedal15_submission_124.pdf</a></li><li>David Murray, Jing Liao, Lina Stankovic, Vladimir Stankovic, Richard Hauxwell-Baldwin, Charlie Wilson, Michael Coleman, Tom Kane, Steven Firth. A data management platform for personalised real-time energy feedback. In Procededings of the 8th International Conference on Energy Efficiency in Domestic Appliances and Lighting, 2015.\n",
       "</li></ul></li><li><strong>schema</strong>: <a href=\"https://github.com/nilmtk/nilm_metadata/tree/v0.2\">https://github.com/nilmtk/nilm_metadata/tree/v0.2</a></li><li><strong>meter_devices</strong>: <ul><li><strong>IAM</strong>: <ul><li><strong>model</strong>: unknown</li><li><strong>manufacturer</strong>: unknown</li><li><strong>manufacturer_url</strong>: unknown</li><li><strong>description</strong>: individual appliance monitor</li><li><strong>sample_period</strong>: 7</li><li><strong>max_sample_period</strong>: 120</li><li><strong>measurements</strong>: <ul><li>{'physical_quantity': 'power', 'type': 'active', 'upper_limit': 5000, 'lower_limit': 0}</li></ul></li><li><strong>wireless</strong>: True</li></ul></li><li><strong>Clamp</strong>: <ul><li><strong>model</strong>: unknown</li><li><strong>manufacturer</strong>: unknown</li><li><strong>manufacturer_url</strong>: unknown</li><li><strong>description</strong>: current clamp</li><li><strong>sample_period</strong>: 7</li><li><strong>max_sample_period</strong>: 120</li><li><strong>measurements</strong>: <ul><li>{'physical_quantity': 'power', 'type': 'active', 'upper_limit': 5000, 'lower_limit': 0}</li></ul></li><li><strong>wireless</strong>: True</li></ul></li></ul></li></ul>"
      ],
      "text/plain": [
       "<IPython.core.display.HTML object>"
      ]
     },
     "metadata": {},
     "output_type": "display_data"
    }
   ],
   "source": [
    "from nilmtk.utils import print_dict\n",
    "print_dict(refit.metadata)              # show meta data in nice html format"
   ]
  },
  {
   "cell_type": "code",
   "execution_count": 114,
   "metadata": {},
   "outputs": [],
   "source": [
    "refit.set_window(start=\"2014-01-01\", end=\"2014-01-05\")      # set window for only a small chunk"
   ]
  },
  {
   "attachments": {},
   "cell_type": "markdown",
   "metadata": {},
   "source": [
    "## Explore Building"
   ]
  },
  {
   "cell_type": "code",
   "execution_count": 37,
   "metadata": {},
   "outputs": [],
   "source": [
    "refit.buildings[1]"
   ]
  },
  {
   "cell_type": "code",
   "execution_count": 38,
   "metadata": {},
   "outputs": [
    {
     "data": {
      "text/plain": [
       "{'instance': 1, 'original_name': 'House1', 'dataset': 'REFIT'}"
      ]
     },
     "execution_count": 38,
     "metadata": {},
     "output_type": "execute_result"
    }
   ],
   "source": [
    "refit.buildings[1].metadata"
   ]
  },
  {
   "cell_type": "code",
   "execution_count": 47,
   "metadata": {},
   "outputs": [
    {
     "data": {
      "text/plain": [
       "['describe', 'elec', 'identifier', 'import_metadata', 'metadata', 'save']"
      ]
     },
     "execution_count": 47,
     "metadata": {},
     "output_type": "execute_result"
    }
   ],
   "source": [
    "ndir(refit.buildings[1])         # nothing interesting, besides elec"
   ]
  },
  {
   "attachments": {},
   "cell_type": "markdown",
   "metadata": {},
   "source": [
    "## Explore MeterGroup (elec)"
   ]
  },
  {
   "cell_type": "code",
   "execution_count": 115,
   "metadata": {},
   "outputs": [
    {
     "data": {
      "text/plain": [
       "MeterGroup(meters=\n",
       "  ElecMeter(instance=1, building=1, dataset='REFIT', site_meter, appliances=[])\n",
       "  ElecMeter(instance=2, building=1, dataset='REFIT', appliances=[Appliance(type='fridge', instance=1)])\n",
       "  ElecMeter(instance=3, building=1, dataset='REFIT', appliances=[Appliance(type='freezer', instance=1)])\n",
       "  ElecMeter(instance=4, building=1, dataset='REFIT', appliances=[Appliance(type='freezer', instance=2)])\n",
       "  ElecMeter(instance=5, building=1, dataset='REFIT', appliances=[Appliance(type='washer dryer', instance=1)])\n",
       "  ElecMeter(instance=6, building=1, dataset='REFIT', appliances=[Appliance(type='washing machine', instance=1)])\n",
       "  ElecMeter(instance=7, building=1, dataset='REFIT', appliances=[Appliance(type='dish washer', instance=1)])\n",
       "  ElecMeter(instance=8, building=1, dataset='REFIT', appliances=[Appliance(type='computer', instance=1)])\n",
       "  ElecMeter(instance=9, building=1, dataset='REFIT', appliances=[Appliance(type='television', instance=1)])\n",
       "  ElecMeter(instance=10, building=1, dataset='REFIT', appliances=[Appliance(type='electric space heater', instance=1)])\n",
       ")"
      ]
     },
     "execution_count": 115,
     "metadata": {},
     "output_type": "execute_result"
    }
   ],
   "source": [
    "elec = refit.buildings[1].elec\n",
    "elec"
   ]
  },
  {
   "cell_type": "code",
   "execution_count": 67,
   "metadata": {},
   "outputs": [
    {
     "data": {
      "text/plain": [
       "ElecMeter(instance=2, building=1, dataset='REFIT', appliances=[Appliance(type='fridge', instance=1)])"
      ]
     },
     "execution_count": 67,
     "metadata": {},
     "output_type": "execute_result"
    }
   ],
   "source": [
    "elec[2]"
   ]
  },
  {
   "cell_type": "code",
   "execution_count": 71,
   "metadata": {},
   "outputs": [
    {
     "data": {
      "text/plain": [
       "['_aggregate_metadata_attribute',\n",
       " '_check_kwargs_for_full_results_and_sections',\n",
       " '_collect_stats_on_all_meters',\n",
       " '_convert_physical_quantity_and_ac_type_to_cols',\n",
       " '_energy_per_meter_with_remainder',\n",
       " '_meter_generators',\n",
       " '_plot_area',\n",
       " '_plot_energy_bar',\n",
       " '_plot_sankey',\n",
       " '_plot_separate_lines',\n",
       " '_prep_kwargs_for_sample_period_and_resample',\n",
       " '_replace_none_with_meter_timeframe',\n",
       " '_set_sample_period',\n",
       " 'activation_series',\n",
       " 'activity_histogram',\n",
       " 'all_meters',\n",
       " 'appliances',\n",
       " 'available_ac_types',\n",
       " 'available_physical_quantities',\n",
       " 'available_power_ac_types',\n",
       " 'average_energy_per_period',\n",
       " 'building',\n",
       " 'call_method_on_all_meters',\n",
       " 'clear_cache',\n",
       " 'contains_meters_from_multiple_buildings',\n",
       " 'correlation',\n",
       " 'correlation_of_sum_of_submeters_with_mains',\n",
       " 'dataframe_of_meters',\n",
       " 'dataset',\n",
       " 'describe',\n",
       " 'disabled_meters',\n",
       " 'dominant_appliance',\n",
       " 'dominant_appliances',\n",
       " 'draw_wiring_graph',\n",
       " 'dropout_rate',\n",
       " 'energy_per_meter',\n",
       " 'entropy',\n",
       " 'entropy_per_meter',\n",
       " 'fraction_per_meter',\n",
       " 'from_list',\n",
       " 'from_other_metergroup',\n",
       " 'get_activations',\n",
       " 'get_labels',\n",
       " 'get_timeframe',\n",
       " 'good_sections',\n",
       " 'groupby',\n",
       " 'identifier',\n",
       " 'import_metadata',\n",
       " 'instance',\n",
       " 'is_site_meter',\n",
       " 'label',\n",
       " 'load',\n",
       " 'load_series',\n",
       " 'mains',\n",
       " 'matches',\n",
       " 'matches_appliances',\n",
       " 'meters',\n",
       " 'meters_directly_downstream_of_mains',\n",
       " 'min_off_duration',\n",
       " 'min_on_duration',\n",
       " 'mutual_information',\n",
       " 'name',\n",
       " 'nested_metergroups',\n",
       " 'on_power_threshold',\n",
       " 'pairwise',\n",
       " 'pairwise_correlation',\n",
       " 'pairwise_mutual_information',\n",
       " 'plot',\n",
       " 'plot_activity_histogram',\n",
       " 'plot_autocorrelation',\n",
       " 'plot_good_sections',\n",
       " 'plot_lag',\n",
       " 'plot_multiple',\n",
       " 'plot_power_histogram',\n",
       " 'plot_spectrum',\n",
       " 'plot_when_on',\n",
       " 'power_series',\n",
       " 'power_series_all_data',\n",
       " 'proportion_of_energy',\n",
       " 'proportion_of_energy_submetered',\n",
       " 'proportion_of_upstream',\n",
       " 'proportion_of_upstream_total_per_meter',\n",
       " 'sample_period',\n",
       " 'select',\n",
       " 'select_top_k',\n",
       " 'select_using_appliances',\n",
       " 'simultaneous_switches',\n",
       " 'sort_meters',\n",
       " 'submeters',\n",
       " 'switch_times',\n",
       " 'total_energy',\n",
       " 'train_test_split',\n",
       " 'union',\n",
       " 'upstream_meter',\n",
       " 'uptime',\n",
       " 'use_alternative_mains',\n",
       " 'values_for_appliance_metadata_key',\n",
       " 'vampire_power',\n",
       " 'when_on',\n",
       " 'wiring_graph']"
      ]
     },
     "execution_count": 71,
     "metadata": {},
     "output_type": "execute_result"
    }
   ],
   "source": [
    "ndir(elec)"
   ]
  },
  {
   "cell_type": "code",
   "execution_count": 78,
   "metadata": {},
   "outputs": [
    {
     "data": {
      "text/plain": [
       "<matplotlib.axes._subplots.AxesSubplot at 0x23916c183d0>"
      ]
     },
     "execution_count": 78,
     "metadata": {},
     "output_type": "execute_result"
    },
    {
     "data": {
      "image/png": "[encoded data removed]",
      "text/plain": [
       "<Figure size 640x480 with 1 Axes>"
      ]
     },
     "metadata": {},
     "output_type": "display_data"
    }
   ],
   "source": [
    "elec.plot_good_sections()"
   ]
  },
  {
   "cell_type": "code",
   "execution_count": 101,
   "metadata": {},
   "outputs": [
    {
     "name": "stdout",
     "output_type": "stream",
     "text": [
      "Running MeterGroup.proportion_of_energy_submetered...\n"
     ]
    },
    {
     "data": {
      "text/plain": [
       "0.429511862995636"
      ]
     },
     "execution_count": 101,
     "metadata": {},
     "output_type": "execute_result"
    }
   ],
   "source": [
    "elec.proportion_of_energy_submetered()"
   ]
  },
  {
   "cell_type": "code",
   "execution_count": 102,
   "metadata": {},
   "outputs": [
    {
     "name": "stdout",
     "output_type": "stream",
     "text": [
      "9/9 ElecMeter(instance=10, building=1, dataset='REFIT', appliances=[Appliance(type='electric space heater', instance=1)])"
     ]
    },
    {
     "data": {
      "text/plain": [
       "<matplotlib.axes._subplots.AxesSubplot at 0x23925e1b0d0>"
      ]
     },
     "execution_count": 102,
     "metadata": {},
     "output_type": "execute_result"
    },
    {
     "data": {
      "image/png": "[encoded data removed]",
      "text/plain": [
       "<Figure size 1000x3000 with 1 Axes>"
      ]
     },
     "metadata": {},
     "output_type": "display_data"
    }
   ],
   "source": [
    "fraction = elec.submeters().fraction_per_meter().dropna()\n",
    "labels = elec.get_labels(fraction.index)\n",
    "plt.figure(figsize=(10,30))\n",
    "fraction.plot(kind='pie', labels=labels)"
   ]
  },
  {
   "cell_type": "code",
   "execution_count": 109,
   "metadata": {},
   "outputs": [
    {
     "data": {
      "text/plain": [
       "{'Fridge': 0.046793921819546634,\n",
       " 'Freezer': 0.08539359261259849,\n",
       " 'Washer dryer': 0.008289452292193796,\n",
       " 'Washing machine': 0.0473511456809446,\n",
       " 'Dish washer': 0.033727413859164085,\n",
       " 'Computer': 0.007770069783827712,\n",
       " 'Television': 0.01818691844686392,\n",
       " 'Electric space heater': 0.7101440629670881}"
      ]
     },
     "execution_count": 109,
     "metadata": {},
     "output_type": "execute_result"
    }
   ],
   "source": [
    "result = dict(zip(labels, fraction))\n",
    "result"
   ]
  },
  {
   "attachments": {},
   "cell_type": "markdown",
   "metadata": {},
   "source": [
    "## Explore Mains and Submeters"
   ]
  },
  {
   "cell_type": "code",
   "execution_count": 135,
   "metadata": {},
   "outputs": [
    {
     "data": {
      "text/plain": [
       "ElecMeter(instance=1, building=1, dataset='REFIT', site_meter, appliances=[])"
      ]
     },
     "execution_count": 135,
     "metadata": {},
     "output_type": "execute_result"
    }
   ],
   "source": [
    "elec.mains()        # aggregate"
   ]
  },
  {
   "cell_type": "code",
   "execution_count": 136,
   "metadata": {},
   "outputs": [
    {
     "data": {
      "text/plain": [
       "MeterGroup(meters=\n",
       "  ElecMeter(instance=2, building=1, dataset='REFIT', appliances=[Appliance(type='fridge', instance=1)])\n",
       "  ElecMeter(instance=3, building=1, dataset='REFIT', appliances=[Appliance(type='freezer', instance=1)])\n",
       "  ElecMeter(instance=4, building=1, dataset='REFIT', appliances=[Appliance(type='freezer', instance=2)])\n",
       "  ElecMeter(instance=5, building=1, dataset='REFIT', appliances=[Appliance(type='washer dryer', instance=1)])\n",
       "  ElecMeter(instance=6, building=1, dataset='REFIT', appliances=[Appliance(type='washing machine', instance=1)])\n",
       "  ElecMeter(instance=7, building=1, dataset='REFIT', appliances=[Appliance(type='dish washer', instance=1)])\n",
       "  ElecMeter(instance=8, building=1, dataset='REFIT', appliances=[Appliance(type='computer', instance=1)])\n",
       "  ElecMeter(instance=9, building=1, dataset='REFIT', appliances=[Appliance(type='television', instance=1)])\n",
       "  ElecMeter(instance=10, building=1, dataset='REFIT', appliances=[Appliance(type='electric space heater', instance=1)])\n",
       ")"
      ]
     },
     "execution_count": 136,
     "metadata": {},
     "output_type": "execute_result"
    }
   ],
   "source": [
    "elec.submeters()    # submeters"
   ]
  },
  {
   "cell_type": "code",
   "execution_count": 125,
   "metadata": {},
   "outputs": [],
   "source": [
    "aggregate = elec.mains().load(sample_period=60)         # returns generator \n",
    "aggregate = next(aggregate)                             # execute"
   ]
  },
  {
   "cell_type": "code",
   "execution_count": 126,
   "metadata": {},
   "outputs": [
    {
     "data": {
      "text/plain": [
       "pandas.core.frame.DataFrame"
      ]
     },
     "execution_count": 126,
     "metadata": {},
     "output_type": "execute_result"
    }
   ],
   "source": [
    "type(aggregate)"
   ]
  },
  {
   "cell_type": "code",
   "execution_count": 127,
   "metadata": {},
   "outputs": [
    {
     "data": {
      "text/html": [
       "<div>\n",
       "<style scoped>\n",
       "    .dataframe tbody tr th:only-of-type {\n",
       "        vertical-align: middle;\n",
       "    }\n",
       "\n",
       "    .dataframe tbody tr th {\n",
       "        vertical-align: top;\n",
       "    }\n",
       "\n",
       "    .dataframe thead tr th {\n",
       "        text-align: left;\n",
       "    }\n",
       "\n",
       "    .dataframe thead tr:last-of-type th {\n",
       "        text-align: right;\n",
       "    }\n",
       "</style>\n",
       "<table border=\"1\" class=\"dataframe\">\n",
       "  <thead>\n",
       "    <tr>\n",
       "      <th>physical_quantity</th>\n",
       "      <th>power</th>\n",
       "    </tr>\n",
       "    <tr>\n",
       "      <th>type</th>\n",
       "      <th>active</th>\n",
       "    </tr>\n",
       "    <tr>\n",
       "      <th>Unix</th>\n",
       "      <th></th>\n",
       "    </tr>\n",
       "  </thead>\n",
       "  <tbody>\n",
       "    <tr>\n",
       "      <th>2014-01-01 00:00:00+00:00</th>\n",
       "      <td>655.333333</td>\n",
       "    </tr>\n",
       "    <tr>\n",
       "      <th>2014-01-01 00:01:00+00:00</th>\n",
       "      <td>659.000000</td>\n",
       "    </tr>\n",
       "    <tr>\n",
       "      <th>2014-01-01 00:02:00+00:00</th>\n",
       "      <td>650.125000</td>\n",
       "    </tr>\n",
       "    <tr>\n",
       "      <th>2014-01-01 00:03:00+00:00</th>\n",
       "      <td>691.500000</td>\n",
       "    </tr>\n",
       "    <tr>\n",
       "      <th>2014-01-01 00:04:00+00:00</th>\n",
       "      <td>782.000000</td>\n",
       "    </tr>\n",
       "  </tbody>\n",
       "</table>\n",
       "</div>"
      ],
      "text/plain": [
       "physical_quantity               power\n",
       "type                           active\n",
       "Unix                                 \n",
       "2014-01-01 00:00:00+00:00  655.333333\n",
       "2014-01-01 00:01:00+00:00  659.000000\n",
       "2014-01-01 00:02:00+00:00  650.125000\n",
       "2014-01-01 00:03:00+00:00  691.500000\n",
       "2014-01-01 00:04:00+00:00  782.000000"
      ]
     },
     "execution_count": 127,
     "metadata": {},
     "output_type": "execute_result"
    }
   ],
   "source": [
    "aggregate.head()"
   ]
  },
  {
   "cell_type": "code",
   "execution_count": 134,
   "metadata": {},
   "outputs": [
    {
     "name": "stdout",
     "output_type": "stream",
     "text": [
      "<class 'pandas.core.frame.DataFrame'>\n",
      "DatetimeIndex: 5760 entries, 2014-01-01 00:00:00+00:00 to 2014-01-04 23:59:00+00:00\n",
      "Freq: 60S\n",
      "Data columns (total 1 columns):\n",
      "(power, active)    5679 non-null float64\n",
      "dtypes: float64(1)\n",
      "memory usage: 90.0 KB\n"
     ]
    }
   ],
   "source": [
    "aggregate.info()"
   ]
  },
  {
   "cell_type": "code",
   "execution_count": null,
   "metadata": {},
   "outputs": [],
   "source": [
    "aggregate.plot()"
   ]
  },
  {
   "cell_type": "code",
   "execution_count": 215,
   "metadata": {},
   "outputs": [
    {
     "data": {
      "text/plain": [
       "['allow_synonyms',\n",
       " 'appliance_types',\n",
       " 'categories',\n",
       " 'identifier',\n",
       " 'label',\n",
       " 'matches',\n",
       " 'metadata',\n",
       " 'n_meters',\n",
       " 'on_power_threshold',\n",
       " 'type']"
      ]
     },
     "execution_count": 215,
     "metadata": {},
     "output_type": "execute_result"
    }
   ],
   "source": [
    "app = elec[4]\n",
    "ndir(app.appliances[0])"
   ]
  },
  {
   "cell_type": "code",
   "execution_count": 218,
   "metadata": {},
   "outputs": [
    {
     "data": {
      "text/plain": [
       "'Freezer'"
      ]
     },
     "execution_count": 218,
     "metadata": {},
     "output_type": "execute_result"
    }
   ],
   "source": [
    "app.label()"
   ]
  },
  {
   "cell_type": "code",
   "execution_count": 162,
   "metadata": {},
   "outputs": [
    {
     "data": {
      "text/plain": [
       "{'original_name': 'Freezer(2)',\n",
       " 'type': 'freezer',\n",
       " 'instance': 2,\n",
       " 'meters': [4],\n",
       " 'dataset': 'REFIT',\n",
       " 'building': 1}"
      ]
     },
     "execution_count": 162,
     "metadata": {},
     "output_type": "execute_result"
    }
   ],
   "source": [
    "app.appliances[0].metadata"
   ]
  },
  {
   "cell_type": "code",
   "execution_count": 191,
   "metadata": {},
   "outputs": [],
   "source": [
    "app = app.load(sample_period=60)\n",
    "app = next(app)"
   ]
  },
  {
   "cell_type": "code",
   "execution_count": null,
   "metadata": {},
   "outputs": [],
   "source": [
    "app.plot()"
   ]
  },
  {
   "attachments": {},
   "cell_type": "markdown",
   "metadata": {},
   "source": [
    "## Explore Dataframe"
   ]
  },
  {
   "cell_type": "code",
   "execution_count": 231,
   "metadata": {},
   "outputs": [],
   "source": [
    "df = elec.dataframe_of_meters(sample_period=60)\n",
    "labels = elec.get_labels(df.columns.values)\n",
    "df = df.set_axis(labels, axis=1, inplace=False)"
   ]
  },
  {
   "cell_type": "code",
   "execution_count": 232,
   "metadata": {},
   "outputs": [
    {
     "data": {
      "text/html": [
       "<div>\n",
       "<style scoped>\n",
       "    .dataframe tbody tr th:only-of-type {\n",
       "        vertical-align: middle;\n",
       "    }\n",
       "\n",
       "    .dataframe tbody tr th {\n",
       "        vertical-align: top;\n",
       "    }\n",
       "\n",
       "    .dataframe thead th {\n",
       "        text-align: right;\n",
       "    }\n",
       "</style>\n",
       "<table border=\"1\" class=\"dataframe\">\n",
       "  <thead>\n",
       "    <tr style=\"text-align: right;\">\n",
       "      <th></th>\n",
       "      <th>Site meter</th>\n",
       "      <th>Fridge</th>\n",
       "      <th>Freezer</th>\n",
       "      <th>Freezer</th>\n",
       "      <th>Washer dryer</th>\n",
       "      <th>Washing machine</th>\n",
       "      <th>Dish washer</th>\n",
       "      <th>Computer</th>\n",
       "      <th>Television</th>\n",
       "      <th>Electric space heater</th>\n",
       "    </tr>\n",
       "    <tr>\n",
       "      <th>Unix</th>\n",
       "      <th></th>\n",
       "      <th></th>\n",
       "      <th></th>\n",
       "      <th></th>\n",
       "      <th></th>\n",
       "      <th></th>\n",
       "      <th></th>\n",
       "      <th></th>\n",
       "      <th></th>\n",
       "      <th></th>\n",
       "    </tr>\n",
       "  </thead>\n",
       "  <tbody>\n",
       "    <tr>\n",
       "      <th>2014-01-01 00:00:00+00:00</th>\n",
       "      <td>655.333333</td>\n",
       "      <td>0.000000</td>\n",
       "      <td>0.0</td>\n",
       "      <td>76.555556</td>\n",
       "      <td>0.0</td>\n",
       "      <td>0.0</td>\n",
       "      <td>0.0</td>\n",
       "      <td>0.0</td>\n",
       "      <td>30.000000</td>\n",
       "      <td>1.0</td>\n",
       "    </tr>\n",
       "    <tr>\n",
       "      <th>2014-01-01 00:01:00+00:00</th>\n",
       "      <td>659.000000</td>\n",
       "      <td>0.000000</td>\n",
       "      <td>0.0</td>\n",
       "      <td>75.333333</td>\n",
       "      <td>0.0</td>\n",
       "      <td>0.0</td>\n",
       "      <td>0.0</td>\n",
       "      <td>0.0</td>\n",
       "      <td>33.666667</td>\n",
       "      <td>1.0</td>\n",
       "    </tr>\n",
       "    <tr>\n",
       "      <th>2014-01-01 00:02:00+00:00</th>\n",
       "      <td>650.125000</td>\n",
       "      <td>0.000000</td>\n",
       "      <td>0.0</td>\n",
       "      <td>74.125000</td>\n",
       "      <td>0.0</td>\n",
       "      <td>0.0</td>\n",
       "      <td>0.0</td>\n",
       "      <td>0.0</td>\n",
       "      <td>30.250000</td>\n",
       "      <td>1.0</td>\n",
       "    </tr>\n",
       "    <tr>\n",
       "      <th>2014-01-01 00:03:00+00:00</th>\n",
       "      <td>691.500000</td>\n",
       "      <td>0.000000</td>\n",
       "      <td>0.0</td>\n",
       "      <td>73.375000</td>\n",
       "      <td>0.0</td>\n",
       "      <td>0.0</td>\n",
       "      <td>0.0</td>\n",
       "      <td>0.0</td>\n",
       "      <td>30.375000</td>\n",
       "      <td>1.0</td>\n",
       "    </tr>\n",
       "    <tr>\n",
       "      <th>2014-01-01 00:04:00+00:00</th>\n",
       "      <td>782.000000</td>\n",
       "      <td>66.666667</td>\n",
       "      <td>0.0</td>\n",
       "      <td>72.444444</td>\n",
       "      <td>0.0</td>\n",
       "      <td>0.0</td>\n",
       "      <td>0.0</td>\n",
       "      <td>0.0</td>\n",
       "      <td>35.777778</td>\n",
       "      <td>1.0</td>\n",
       "    </tr>\n",
       "  </tbody>\n",
       "</table>\n",
       "</div>"
      ],
      "text/plain": [
       "                           Site meter     Fridge  Freezer    Freezer  \\\n",
       "Unix                                                                   \n",
       "2014-01-01 00:00:00+00:00  655.333333   0.000000      0.0  76.555556   \n",
       "2014-01-01 00:01:00+00:00  659.000000   0.000000      0.0  75.333333   \n",
       "2014-01-01 00:02:00+00:00  650.125000   0.000000      0.0  74.125000   \n",
       "2014-01-01 00:03:00+00:00  691.500000   0.000000      0.0  73.375000   \n",
       "2014-01-01 00:04:00+00:00  782.000000  66.666667      0.0  72.444444   \n",
       "\n",
       "                           Washer dryer  Washing machine  Dish washer  \\\n",
       "Unix                                                                    \n",
       "2014-01-01 00:00:00+00:00           0.0              0.0          0.0   \n",
       "2014-01-01 00:01:00+00:00           0.0              0.0          0.0   \n",
       "2014-01-01 00:02:00+00:00           0.0              0.0          0.0   \n",
       "2014-01-01 00:03:00+00:00           0.0              0.0          0.0   \n",
       "2014-01-01 00:04:00+00:00           0.0              0.0          0.0   \n",
       "\n",
       "                           Computer  Television  Electric space heater  \n",
       "Unix                                                                    \n",
       "2014-01-01 00:00:00+00:00       0.0   30.000000                    1.0  \n",
       "2014-01-01 00:01:00+00:00       0.0   33.666667                    1.0  \n",
       "2014-01-01 00:02:00+00:00       0.0   30.250000                    1.0  \n",
       "2014-01-01 00:03:00+00:00       0.0   30.375000                    1.0  \n",
       "2014-01-01 00:04:00+00:00       0.0   35.777778                    1.0  "
      ]
     },
     "execution_count": 232,
     "metadata": {},
     "output_type": "execute_result"
    }
   ],
   "source": [
    "df.head()"
   ]
  },
  {
   "cell_type": "code",
   "execution_count": 233,
   "metadata": {},
   "outputs": [
    {
     "data": {
      "text/html": [
       "<div>\n",
       "<style scoped>\n",
       "    .dataframe tbody tr th:only-of-type {\n",
       "        vertical-align: middle;\n",
       "    }\n",
       "\n",
       "    .dataframe tbody tr th {\n",
       "        vertical-align: top;\n",
       "    }\n",
       "\n",
       "    .dataframe thead th {\n",
       "        text-align: right;\n",
       "    }\n",
       "</style>\n",
       "<table border=\"1\" class=\"dataframe\">\n",
       "  <thead>\n",
       "    <tr style=\"text-align: right;\">\n",
       "      <th></th>\n",
       "      <th>Site meter</th>\n",
       "      <th>Fridge</th>\n",
       "      <th>Freezer</th>\n",
       "      <th>Freezer</th>\n",
       "      <th>Washer dryer</th>\n",
       "      <th>Washing machine</th>\n",
       "      <th>Dish washer</th>\n",
       "      <th>Computer</th>\n",
       "      <th>Television</th>\n",
       "      <th>Electric space heater</th>\n",
       "    </tr>\n",
       "  </thead>\n",
       "  <tbody>\n",
       "    <tr>\n",
       "      <th>count</th>\n",
       "      <td>5760.000000</td>\n",
       "      <td>5760.000000</td>\n",
       "      <td>5760.000000</td>\n",
       "      <td>5760.000000</td>\n",
       "      <td>5760.000000</td>\n",
       "      <td>5760.000000</td>\n",
       "      <td>5760.000000</td>\n",
       "      <td>5760.000000</td>\n",
       "      <td>5760.000000</td>\n",
       "      <td>5760.000000</td>\n",
       "    </tr>\n",
       "    <tr>\n",
       "      <th>mean</th>\n",
       "      <td>824.773647</td>\n",
       "      <td>16.502494</td>\n",
       "      <td>13.869058</td>\n",
       "      <td>29.638473</td>\n",
       "      <td>10.243241</td>\n",
       "      <td>18.644943</td>\n",
       "      <td>20.075957</td>\n",
       "      <td>3.624935</td>\n",
       "      <td>9.135355</td>\n",
       "      <td>207.348038</td>\n",
       "    </tr>\n",
       "    <tr>\n",
       "      <th>std</th>\n",
       "      <td>875.669772</td>\n",
       "      <td>31.659022</td>\n",
       "      <td>22.550234</td>\n",
       "      <td>36.071855</td>\n",
       "      <td>145.192200</td>\n",
       "      <td>183.661799</td>\n",
       "      <td>205.560550</td>\n",
       "      <td>9.590727</td>\n",
       "      <td>14.474402</td>\n",
       "      <td>404.646629</td>\n",
       "    </tr>\n",
       "    <tr>\n",
       "      <th>min</th>\n",
       "      <td>0.000000</td>\n",
       "      <td>0.000000</td>\n",
       "      <td>0.000000</td>\n",
       "      <td>0.000000</td>\n",
       "      <td>0.000000</td>\n",
       "      <td>0.000000</td>\n",
       "      <td>0.000000</td>\n",
       "      <td>0.000000</td>\n",
       "      <td>0.000000</td>\n",
       "      <td>0.000000</td>\n",
       "    </tr>\n",
       "    <tr>\n",
       "      <th>25%</th>\n",
       "      <td>383.700000</td>\n",
       "      <td>0.000000</td>\n",
       "      <td>0.000000</td>\n",
       "      <td>0.000000</td>\n",
       "      <td>0.000000</td>\n",
       "      <td>0.000000</td>\n",
       "      <td>0.000000</td>\n",
       "      <td>0.000000</td>\n",
       "      <td>0.000000</td>\n",
       "      <td>1.000000</td>\n",
       "    </tr>\n",
       "    <tr>\n",
       "      <th>50%</th>\n",
       "      <td>589.738889</td>\n",
       "      <td>0.000000</td>\n",
       "      <td>0.000000</td>\n",
       "      <td>0.000000</td>\n",
       "      <td>0.000000</td>\n",
       "      <td>0.000000</td>\n",
       "      <td>0.000000</td>\n",
       "      <td>0.000000</td>\n",
       "      <td>0.000000</td>\n",
       "      <td>1.000000</td>\n",
       "    </tr>\n",
       "    <tr>\n",
       "      <th>75%</th>\n",
       "      <td>1124.500000</td>\n",
       "      <td>0.000000</td>\n",
       "      <td>44.200000</td>\n",
       "      <td>68.900000</td>\n",
       "      <td>0.000000</td>\n",
       "      <td>0.000000</td>\n",
       "      <td>0.000000</td>\n",
       "      <td>0.000000</td>\n",
       "      <td>30.000000</td>\n",
       "      <td>1.000000</td>\n",
       "    </tr>\n",
       "    <tr>\n",
       "      <th>max</th>\n",
       "      <td>10723.454545</td>\n",
       "      <td>410.500000</td>\n",
       "      <td>332.000000</td>\n",
       "      <td>242.636364</td>\n",
       "      <td>2651.400000</td>\n",
       "      <td>2362.666667</td>\n",
       "      <td>2250.181818</td>\n",
       "      <td>41.500000</td>\n",
       "      <td>93.555556</td>\n",
       "      <td>1027.700000</td>\n",
       "    </tr>\n",
       "  </tbody>\n",
       "</table>\n",
       "</div>"
      ],
      "text/plain": [
       "         Site meter       Fridge      Freezer      Freezer  Washer dryer  \\\n",
       "count   5760.000000  5760.000000  5760.000000  5760.000000   5760.000000   \n",
       "mean     824.773647    16.502494    13.869058    29.638473     10.243241   \n",
       "std      875.669772    31.659022    22.550234    36.071855    145.192200   \n",
       "min        0.000000     0.000000     0.000000     0.000000      0.000000   \n",
       "25%      383.700000     0.000000     0.000000     0.000000      0.000000   \n",
       "50%      589.738889     0.000000     0.000000     0.000000      0.000000   \n",
       "75%     1124.500000     0.000000    44.200000    68.900000      0.000000   \n",
       "max    10723.454545   410.500000   332.000000   242.636364   2651.400000   \n",
       "\n",
       "       Washing machine  Dish washer     Computer   Television  \\\n",
       "count      5760.000000  5760.000000  5760.000000  5760.000000   \n",
       "mean         18.644943    20.075957     3.624935     9.135355   \n",
       "std         183.661799   205.560550     9.590727    14.474402   \n",
       "min           0.000000     0.000000     0.000000     0.000000   \n",
       "25%           0.000000     0.000000     0.000000     0.000000   \n",
       "50%           0.000000     0.000000     0.000000     0.000000   \n",
       "75%           0.000000     0.000000     0.000000    30.000000   \n",
       "max        2362.666667  2250.181818    41.500000    93.555556   \n",
       "\n",
       "       Electric space heater  \n",
       "count            5760.000000  \n",
       "mean              207.348038  \n",
       "std               404.646629  \n",
       "min                 0.000000  \n",
       "25%                 1.000000  \n",
       "50%                 1.000000  \n",
       "75%                 1.000000  \n",
       "max              1027.700000  "
      ]
     },
     "execution_count": 233,
     "metadata": {},
     "output_type": "execute_result"
    }
   ],
   "source": [
    "df.describe()"
   ]
  }
 ],
 "metadata": {
  "kernelspec": {
   "display_name": "energy_env",
   "language": "python",
   "name": "python3"
  },
  "language_info": {
   "codemirror_mode": {
    "name": "ipython",
    "version": 3
   },
   "file_extension": ".py",
   "mimetype": "text/x-python",
   "name": "python",
   "nbconvert_exporter": "python",
   "pygments_lexer": "ipython3",
   "version": "3.8.16"
  },
  "orig_nbformat": 4
 },
 "nbformat": 4,
 "nbformat_minor": 2
}
