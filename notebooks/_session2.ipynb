{
 "cells": [
  {
   "cell_type": "markdown",
   "id": "618402d1",
   "metadata": {},
   "source": [
    "# Session 2"
   ]
  },
  {
   "cell_type": "code",
   "execution_count": 1,
   "id": "f2fea0b4",
   "metadata": {},
   "outputs": [],
   "source": [
    "import tensorflow as tf\n",
    "import numpy as np\n",
    "import matplotlib.pyplot as plt"
   ]
  },
  {
   "cell_type": "code",
   "execution_count": 8,
   "id": "b5a2cc80",
   "metadata": {},
   "outputs": [
    {
     "name": "stdout",
     "output_type": "stream",
     "text": [
      "2.4.3\n"
     ]
    }
   ],
   "source": [
    "print(tf.__version__)"
   ]
  },
  {
   "cell_type": "code",
   "execution_count": 10,
   "id": "72c20956",
   "metadata": {},
   "outputs": [],
   "source": [
    "from pathlib import Path\n",
    "DATA_PATH = Path(\"../data/ukdale2.h5\").absolute().__str__()"
   ]
  },
  {
   "cell_type": "code",
   "execution_count": 11,
   "id": "ada065ae",
   "metadata": {},
   "outputs": [],
   "source": [
    "from nilmtk import DataSet\n",
    "ukdale = DataSet(DATA_PATH)\n",
    "ukdale.set_window(start='2014-01-01', end='2014-07-01')"
   ]
  },
  {
   "cell_type": "code",
   "execution_count": 12,
   "id": "2c75c06d",
   "metadata": {},
   "outputs": [
    {
     "data": {
      "text/plain": [
       "OrderedDict([(1, Building(instance=1, dataset='UK-DALE')),\n",
       "             (2, Building(instance=2, dataset='UK-DALE')),\n",
       "             (3, Building(instance=3, dataset='UK-DALE')),\n",
       "             (4, Building(instance=4, dataset='UK-DALE')),\n",
       "             (5, Building(instance=5, dataset='UK-DALE'))])"
      ]
     },
     "execution_count": 12,
     "metadata": {},
     "output_type": "execute_result"
    }
   ],
   "source": [
    "ukdale.buildings"
   ]
  },
  {
   "cell_type": "code",
   "execution_count": null,
   "id": "481aceaf",
   "metadata": {},
   "outputs": [],
   "source": [
    "ukdale.buildings[1].elec"
   ]
  },
  {
   "cell_type": "code",
   "execution_count": null,
   "id": "df83fe40",
   "metadata": {},
   "outputs": [],
   "source": [
    "ukdale.buildings[1].elec.proportion_of_energy_submetered()"
   ]
  },
  {
   "cell_type": "code",
   "execution_count": null,
   "id": "31b57a2a",
   "metadata": {},
   "outputs": [],
   "source": [
    "ukdale.buildings[1].elec.submeters().energy_per_meter()"
   ]
  },
  {
   "cell_type": "code",
   "execution_count": null,
   "id": "2874c1d2",
   "metadata": {},
   "outputs": [],
   "source": [
    "fraction = ukdale.buildings[1].elec.submeters().fraction_per_meter().dropna()\n",
    "# Create convenient labels\n",
    "labels = ukdale.buildings[1].elec.get_labels(fraction.index)\n",
    "plt.figure(figsize=(10,30))\n",
    "fraction.plot(kind='pie', labels=labels)"
   ]
  },
  {
   "cell_type": "code",
   "execution_count": null,
   "id": "96e3cd05",
   "metadata": {
    "scrolled": true
   },
   "outputs": [],
   "source": [
    "ukdale.buildings[1].elec.plot_when_on(on_power_threshold = 40)"
   ]
  },
  {
   "cell_type": "code",
   "execution_count": null,
   "id": "f2c3d3ff",
   "metadata": {},
   "outputs": [],
   "source": [
    "ukdale.buildings[1].elec['fridge'].good_sections(full_results=True).plot()"
   ]
  },
  {
   "cell_type": "code",
   "execution_count": null,
   "id": "b0a87f70",
   "metadata": {},
   "outputs": [],
   "source": [
    "import gc\n",
    "gc.collect()"
   ]
  },
  {
   "cell_type": "markdown",
   "id": "e3b6f20c",
   "metadata": {},
   "source": [
    "## Fridge Detection"
   ]
  },
  {
   "cell_type": "code",
   "execution_count": null,
   "id": "c4c15b54",
   "metadata": {},
   "outputs": [],
   "source": [
    "fridge = next(ukdale.buildings[1].elec['fridge'].load(sample_period=30))\n",
    "aggregate = next(ukdale.buildings[1].elec.mains().load(sample_period=30))"
   ]
  },
  {
   "cell_type": "code",
   "execution_count": null,
   "id": "fcff2069",
   "metadata": {},
   "outputs": [],
   "source": [
    "aggregate.head(), aggregate.shape"
   ]
  },
  {
   "cell_type": "code",
   "execution_count": null,
   "id": "2cfabd03",
   "metadata": {},
   "outputs": [],
   "source": [
    "fridge.head(), fridge.shape"
   ]
  },
  {
   "cell_type": "code",
   "execution_count": null,
   "id": "fb94e1f7",
   "metadata": {},
   "outputs": [],
   "source": [
    "aggregate = aggregate['power']['active']\n",
    "aggregate.head(n=5)"
   ]
  },
  {
   "cell_type": "code",
   "execution_count": null,
   "id": "4a8e4e27",
   "metadata": {},
   "outputs": [],
   "source": [
    "def normalise(df):\n",
    "    \"\"\"\n",
    "    Normalises the values in df\n",
    "    \"\"\"\n",
    "    mean = df.fillna(method='ffill').values.mean()\n",
    "    std = df.fillna(method = 'ffill').values.std()\n",
    "    return mean, std, (df.fillna(method='ffill').values-mean)/std\n",
    "\n",
    "mean_agg, std_agg, aggregate = normalise(aggregate)\n",
    "mean_frz, std_frz, fridge = normalise(fridge)"
   ]
  },
  {
   "cell_type": "code",
   "execution_count": null,
   "id": "d8776edc",
   "metadata": {},
   "outputs": [],
   "source": [
    "fridge.shape, aggregate.shape"
   ]
  },
  {
   "cell_type": "code",
   "execution_count": null,
   "id": "5e41151c",
   "metadata": {},
   "outputs": [],
   "source": [
    "fridge = fridge.reshape(-1)"
   ]
  },
  {
   "cell_type": "code",
   "execution_count": null,
   "id": "f47affd1",
   "metadata": {},
   "outputs": [],
   "source": [
    "# Padding is done here, note other approaches for the padding can be used\n",
    "WINDOW_SIZE =99\n",
    "aggregate = np.pad(aggregate, (WINDOW_SIZE//2, WINDOW_SIZE//2 +1))\n",
    "fridge = np.pad(fridge.reshape(-1), (WINDOW_SIZE//2, WINDOW_SIZE//2 +1))"
   ]
  },
  {
   "cell_type": "code",
   "execution_count": null,
   "id": "7d12f816",
   "metadata": {},
   "outputs": [],
   "source": [
    "aggregate = np.array([\n",
    "    aggregate[i:i+WINDOW_SIZE] for i in range(len(aggregate)-WINDOW_SIZE)\n",
    "])\n",
    "aggregate.shape"
   ]
  },
  {
   "cell_type": "code",
   "execution_count": null,
   "id": "8b9028c6",
   "metadata": {},
   "outputs": [],
   "source": [
    "fridge = np.array([\n",
    "    fridge[i:i+WINDOW_SIZE] for i in range(len(fridge)-WINDOW_SIZE)\n",
    "])\n",
    "fridge.shape"
   ]
  },
  {
   "cell_type": "code",
   "execution_count": null,
   "id": "8f2ac78a",
   "metadata": {},
   "outputs": [],
   "source": [
    "import matplotlib.pyplot as plt\n",
    "import numpy as np\n",
    "import pandas as pd\n",
    "from matplotlib.dates import DateFormatter\n",
    "import matplotlib.font_manager\n",
    "from datetime import datetime, timedelta\n",
    "import matplotlib.pyplot as plt\n",
    "import seaborn as sns\n",
    "from matplotlib.pyplot import figure\n",
    "\n",
    "plt.rc('text', usetex=False)\n",
    "plt.rc('xtick', labelsize=24)\n",
    "plt.rc('ytick', labelsize=24)\n",
    "plt.rc('axes', labelsize=26)"
   ]
  },
  {
   "cell_type": "code",
   "execution_count": null,
   "id": "69dd0bda",
   "metadata": {},
   "outputs": [],
   "source": [
    "index = 300\n",
    "input_seq = aggregate[index]\n",
    "output_seq = fridge[index]\n",
    "figure(figsize=(20,8))\n",
    "plt.plot(input_seq, label='Input')\n",
    "plt.plot(output_seq, label='Output')\n",
    "plt.legend()\n",
    "plt.show()"
   ]
  },
  {
   "cell_type": "code",
   "execution_count": null,
   "id": "bb5a896b",
   "metadata": {},
   "outputs": [],
   "source": [
    "from tensorflow.keras import Sequential\n",
    "from tensorflow.keras.layers import Conv1D, Dropout, Flatten, Dense\n",
    "\n",
    "def return_seq2seq(sequence_length):\n",
    "    model = Sequential()\n",
    "    model.add(Conv1D(30,10,activation=\"relu\",input_shape=(sequence_length,1),strides=2))\n",
    "    model.add(Conv1D(30, 8, activation='relu', strides=2))\n",
    "    model.add(Conv1D(40, 6, activation='relu', strides=1))\n",
    "    model.add(Conv1D(50, 5, activation='relu', strides=1))\n",
    "    model.add(Dropout(.2))\n",
    "    model.add(Conv1D(50, 5, activation='relu', strides=1))\n",
    "    model.add(Dropout(.2))\n",
    "    model.add(Flatten())\n",
    "    model.add(Dense(1024, activation='relu'))\n",
    "    model.add(Dropout(.2))\n",
    "    model.add(Dense(sequence_length))\n",
    "    optim = tf.keras.optimizers.Adam(learning_rate=1e-4)\n",
    "    model.compile(loss='mse', optimizer=optim)\n",
    "    return model\n",
    "\n",
    "fridge_model = return_seq2seq(WINDOW_SIZE)"
   ]
  },
  {
   "cell_type": "code",
   "execution_count": null,
   "id": "fe423ee7",
   "metadata": {},
   "outputs": [],
   "source": [
    "fridge_model.summary()"
   ]
  },
  {
   "cell_type": "code",
   "execution_count": null,
   "id": "c805e908",
   "metadata": {},
   "outputs": [],
   "source": [
    "aggregate = np.expand_dims(aggregate, axis=-1)"
   ]
  },
  {
   "cell_type": "code",
   "execution_count": null,
   "id": "04dee343",
   "metadata": {},
   "outputs": [],
   "source": [
    "from sklearn.model_selection import train_test_split\n",
    "X_train, X_test, y_train, y_test = train_test_split(aggregate, fridge, test_size=.2, shuffle=False)\n",
    "X_train.shape, X_test.shape, y_train.shape, y_test.shape"
   ]
  },
  {
   "cell_type": "code",
   "execution_count": null,
   "id": "5b2fc54e",
   "metadata": {},
   "outputs": [],
   "source": [
    "X_train.shape, y_train.shape"
   ]
  },
  {
   "cell_type": "code",
   "execution_count": null,
   "id": "0fec084b",
   "metadata": {},
   "outputs": [],
   "source": [
    "np.isnan(X_train).sum(), np.isnan(y_train).sum()"
   ]
  },
  {
   "cell_type": "code",
   "execution_count": null,
   "id": "1a3f835c",
   "metadata": {},
   "outputs": [],
   "source": [
    "history = fridge_model.fit(X_train, y_train, validation_split=.15, batch_size=64, epochs=3, shuffle=True)"
   ]
  },
  {
   "cell_type": "code",
   "execution_count": null,
   "id": "b89ce311",
   "metadata": {},
   "outputs": [],
   "source": [
    "figure(figsize=(20,8))\n",
    "plt.plot(history.history['loss'], label='Training Loss')\n",
    "plt.plot(history.history['val_loss'], label='Validation loss')\n",
    "plt.legend()\n",
    "plt.plot()"
   ]
  },
  {
   "cell_type": "code",
   "execution_count": null,
   "id": "f88fa730",
   "metadata": {},
   "outputs": [],
   "source": [
    "y_predict = fridge_model.predict(X_test)"
   ]
  },
  {
   "cell_type": "code",
   "execution_count": null,
   "id": "4826a006",
   "metadata": {},
   "outputs": [],
   "source": [
    "y_predict.shape"
   ]
  },
  {
   "cell_type": "code",
   "execution_count": null,
   "id": "4d724427",
   "metadata": {},
   "outputs": [],
   "source": [
    "index = 150\n",
    "predicted_seq = y_predict[index]\n",
    "real_seq = y_test[index]\n",
    "figure(figsize=(20,8))\n",
    "plt.plot(predicted_seq, label='Predicted')\n",
    "plt.plot(real_seq, label='Output')\n",
    "plt.legend()\n",
    "plt.show()"
   ]
  },
  {
   "cell_type": "code",
   "execution_count": null,
   "id": "9b05f0e1",
   "metadata": {},
   "outputs": [],
   "source": [
    "def denormlise(array, mean, std):\n",
    "    return array*std+mean\n",
    "\n",
    "def aggregate_sequences(prediction):\n",
    "    l = WINDOW_SIZE\n",
    "    n = len(prediction) + l - 1\n",
    "    sum_arr = np.zeros((n))\n",
    "    counts_arr = np.zeros((n))\n",
    "    o = len(sum_arr)\n",
    "    for i in range(len(prediction)):\n",
    "        sum_arr[i:i + l] += prediction[i].flatten()\n",
    "        counts_arr[i:i + l] += 1\n",
    "    for i in range(len(sum_arr)):\n",
    "        sum_arr[i] = sum_arr[i] / counts_arr[i]\n",
    "    return denormlise(sum_arr, mean_frz, std_frz)\n",
    "\n",
    "y_predict = aggregate_sequences(y_predict)\n",
    "y_real = aggregate_sequences(y_test)"
   ]
  },
  {
   "cell_type": "code",
   "execution_count": null,
   "id": "c1665590",
   "metadata": {},
   "outputs": [],
   "source": [
    "figure(figsize=(20,8))\n",
    "\n",
    "plt.plot(y_real, label='Real consumption')\n",
    "plt.plot(y_predict, label='Predicted consumption')\n",
    "plt.legend()\n",
    "plt.plot()"
   ]
  },
  {
   "cell_type": "code",
   "execution_count": null,
   "id": "b2cd176a",
   "metadata": {},
   "outputs": [],
   "source": [
    "figure(figsize=(20,8))\n",
    "\n",
    "plt.plot(y_real[:5000], label='Real consumption')\n",
    "plt.plot(y_predict[:5000], label='Predicted consumption')\n",
    "plt.legend()\n",
    "plt.plot()"
   ]
  },
  {
   "cell_type": "code",
   "execution_count": null,
   "id": "f3aa7c36",
   "metadata": {},
   "outputs": [],
   "source": [
    "from nilmtk.losses import nde, mae, f1score\n",
    "print(f\"\"\"\n",
    "- F1-score: {f1score(y_real, y_predict)}\n",
    "- NDE: {nde(y_real, y_predict)}\n",
    "- MAE: {mae(y_real, y_predict)}\n",
    "\"\"\")"
   ]
  }
 ],
 "metadata": {
  "jupytext": {
   "formats": "ipynb,qmd,auto:percent"
  },
  "kernelspec": {
   "display_name": "Python 3 (ipykernel)",
   "language": "python",
   "name": "python3"
  },
  "language_info": {
   "codemirror_mode": {
    "name": "ipython",
    "version": 3
   },
   "file_extension": ".py",
   "mimetype": "text/x-python",
   "name": "python",
   "nbconvert_exporter": "python",
   "pygments_lexer": "ipython3",
   "version": "3.8.16"
  }
 },
 "nbformat": 4,
 "nbformat_minor": 5
}
