{
 "cells": [
  {
   "cell_type": "code",
   "execution_count": 1,
   "metadata": {},
   "outputs": [],
   "source": [
    "import tensorflow as tf\n",
    "import numpy as np\n",
    "import matplotlib.pyplot as plt\n",
    "from nilmtk import DataSet\n",
    "DATA_PATH = '.\\data\\REFIT.h5'\n",
    "refit = DataSet(DATA_PATH)"
   ]
  },
  {
   "cell_type": "code",
   "execution_count": 3,
   "metadata": {},
   "outputs": [],
   "source": [
    "refit.set_window(start='2014-04-01', end='2014-04-10')"
   ]
  },
  {
   "cell_type": "code",
   "execution_count": 10,
   "metadata": {},
   "outputs": [],
   "source": [
    "def ndir(x):\n",
    "    \"\"\" Show properties and methods with no magic methods \"\"\"\n",
    "    return [x for x in dir(x) if not x.__contains__(\"__\")]"
   ]
  },
  {
   "attachments": {},
   "cell_type": "markdown",
   "metadata": {},
   "source": [
    "# API"
   ]
  },
  {
   "attachments": {},
   "cell_type": "markdown",
   "metadata": {},
   "source": [
    "Inspiration: https://github.com/nilmtk/nilmtk-contrib/blob/master/sample_notebooks/NILMTK%20API%20Tutorial.ipynb"
   ]
  },
  {
   "cell_type": "code",
   "execution_count": 2,
   "metadata": {},
   "outputs": [],
   "source": [
    "from nilmtk.api import API\n",
    "import warnings\n",
    "#warnings.filterwarnings(\"ignore\")"
   ]
  },
  {
   "cell_type": "code",
   "execution_count": 4,
   "metadata": {},
   "outputs": [],
   "source": [
    "from disaggregate.seq2seq import Seq2Seq"
   ]
  },
  {
   "cell_type": "code",
   "execution_count": 5,
   "metadata": {},
   "outputs": [
    {
     "data": {
      "text/plain": [
       "MeterGroup(meters=\n",
       "  ElecMeter(instance=1, building=5, dataset='REFIT', site_meter, appliances=[])\n",
       "  ElecMeter(instance=2, building=5, dataset='REFIT', appliances=[Appliance(type='fridge freezer', instance=1)])\n",
       "  ElecMeter(instance=3, building=5, dataset='REFIT', appliances=[Appliance(type='tumble dryer', instance=1)])\n",
       "  ElecMeter(instance=4, building=5, dataset='REFIT', appliances=[Appliance(type='washing machine', instance=1)])\n",
       "  ElecMeter(instance=5, building=5, dataset='REFIT', appliances=[Appliance(type='dish washer', instance=1)])\n",
       "  ElecMeter(instance=6, building=5, dataset='REFIT', appliances=[Appliance(type='computer', instance=1)])\n",
       "  ElecMeter(instance=7, building=5, dataset='REFIT', appliances=[Appliance(type='television', instance=1)])\n",
       "  ElecMeter(instance=8, building=5, dataset='REFIT', appliances=[Appliance(type='microwave', instance=1)])\n",
       "  ElecMeter(instance=9, building=5, dataset='REFIT', appliances=[Appliance(type='kettle', instance=1)])\n",
       "  ElecMeter(instance=10, building=5, dataset='REFIT', appliances=[Appliance(type='toaster', instance=1)])\n",
       ")"
      ]
     },
     "execution_count": 5,
     "metadata": {},
     "output_type": "execute_result"
    }
   ],
   "source": [
    "refit.buildings[5].elec"
   ]
  },
  {
   "cell_type": "code",
   "execution_count": 6,
   "metadata": {},
   "outputs": [],
   "source": [
    "experiment1 = {\n",
    "  'power': {'mains': ['apparent','active'],'appliance': ['apparent','active']},\n",
    "  'sample_rate': 60,\n",
    "  'appliances': ['fridge freezer','computer'],\n",
    "  'methods': {\"Seq2Seq\":Seq2Seq({})},\n",
    "  'train': {    \n",
    "    'datasets': {\n",
    "        'Dataport': {\n",
    "            'path': 'data/REFIT.h5',\n",
    "            'buildings': {\n",
    "                5: {\n",
    "                    'start_time': '2014-04-01',\n",
    "                    'end_time': '2014-04-03'\n",
    "                    }\n",
    "                }                \n",
    "            }\n",
    "        }\n",
    "    },\n",
    "  'test': {\n",
    "    'datasets': {\n",
    "        'Dataport': {\n",
    "            'path': 'data/REFIT.h5',\n",
    "            'buildings': {\n",
    "                5: {\n",
    "                    'start_time': '2014-04-04',\n",
    "                    'end_time': '2014-04-05'\n",
    "                    }\n",
    "                }\n",
    "            }\n",
    "        },\n",
    "        'metrics':['rmse']\n",
    "    }\n",
    "}"
   ]
  },
  {
   "cell_type": "code",
   "execution_count": 7,
   "metadata": {},
   "outputs": [
    {
     "name": "stdout",
     "output_type": "stream",
     "text": [
      "Joint Testing for all algorithms\n",
      "Loading data for  Dataport  dataset\n",
      "WARNING: search terms match 1 appliances. Instance 0 was selected\n",
      "WARNING: search terms match 1 appliances. Instance 0 was selected\n",
      "Dropping missing values\n",
      "Generating predictions for : Seq2Seq\n",
      "............  rmse  ..............\n",
      "                  Seq2Seq\n",
      "fridge freezer  62.817463\n",
      "computer         0.160715\n"
     ]
    }
   ],
   "source": [
    "api_results_experiment_1 = API(experiment1)"
   ]
  },
  {
   "cell_type": "code",
   "execution_count": 9,
   "metadata": {},
   "outputs": [
    {
     "name": "stdout",
     "output_type": "stream",
     "text": [
      "Dataport_5_rmse\n",
      "                  Seq2Seq\n",
      "fridge freezer  62.817463\n",
      "computer         0.160715\n",
      "\n",
      "\n",
      "\n"
     ]
    }
   ],
   "source": [
    "errors_keys = api_results_experiment_1.errors_keys\n",
    "errors = api_results_experiment_1.errors\n",
    "for i in range(len(errors)):\n",
    "    print (errors_keys[i])\n",
    "    print (errors[i])\n",
    "    print (\"\\n\\n\")"
   ]
  },
  {
   "cell_type": "code",
   "execution_count": 11,
   "metadata": {},
   "outputs": [
    {
     "data": {
      "text/plain": [
       "['DROP_ALL_NANS',\n",
       " 'appliances',\n",
       " 'artificial_aggregate',\n",
       " 'call_predict',\n",
       " 'chunk_size',\n",
       " 'classifiers',\n",
       " 'compute_loss',\n",
       " 'display_predictions',\n",
       " 'dropna',\n",
       " 'errors',\n",
       " 'errors_keys',\n",
       " 'experiment',\n",
       " 'gt_overall',\n",
       " 'methods',\n",
       " 'metrics',\n",
       " 'power',\n",
       " 'pred_overall',\n",
       " 'predict',\n",
       " 'sample_period',\n",
       " 'site_only',\n",
       " 'store_classifier_instances',\n",
       " 'storing_key',\n",
       " 'test_chunk_wise',\n",
       " 'test_datasets_dict',\n",
       " 'test_jointly',\n",
       " 'test_mains',\n",
       " 'test_submeters',\n",
       " 'train_chunk_wise',\n",
       " 'train_datasets_dict',\n",
       " 'train_jointly',\n",
       " 'train_mains',\n",
       " 'train_submeters']"
      ]
     },
     "execution_count": 11,
     "metadata": {},
     "output_type": "execute_result"
    }
   ],
   "source": [
    "ndir(api_results_experiment_1)"
   ]
  },
  {
   "cell_type": "code",
   "execution_count": 23,
   "metadata": {},
   "outputs": [
    {
     "data": {
      "text/html": [
       "<div>\n",
       "<style scoped>\n",
       "    .dataframe tbody tr th:only-of-type {\n",
       "        vertical-align: middle;\n",
       "    }\n",
       "\n",
       "    .dataframe tbody tr th {\n",
       "        vertical-align: top;\n",
       "    }\n",
       "\n",
       "    .dataframe thead th {\n",
       "        text-align: right;\n",
       "    }\n",
       "</style>\n",
       "<table border=\"1\" class=\"dataframe\">\n",
       "  <thead>\n",
       "    <tr style=\"text-align: right;\">\n",
       "      <th></th>\n",
       "      <th>fridge freezer</th>\n",
       "      <th>computer</th>\n",
       "    </tr>\n",
       "    <tr>\n",
       "      <th>Unix</th>\n",
       "      <th></th>\n",
       "      <th></th>\n",
       "    </tr>\n",
       "  </thead>\n",
       "  <tbody>\n",
       "    <tr>\n",
       "      <th>2014-04-04 00:00:00+01:00</th>\n",
       "      <td>52.863453</td>\n",
       "      <td>8.871467</td>\n",
       "    </tr>\n",
       "    <tr>\n",
       "      <th>2014-04-04 00:01:00+01:00</th>\n",
       "      <td>53.439396</td>\n",
       "      <td>8.871139</td>\n",
       "    </tr>\n",
       "    <tr>\n",
       "      <th>2014-04-04 00:02:00+01:00</th>\n",
       "      <td>53.842091</td>\n",
       "      <td>8.871538</td>\n",
       "    </tr>\n",
       "    <tr>\n",
       "      <th>2014-04-04 00:03:00+01:00</th>\n",
       "      <td>54.514225</td>\n",
       "      <td>8.882552</td>\n",
       "    </tr>\n",
       "    <tr>\n",
       "      <th>2014-04-04 00:04:00+01:00</th>\n",
       "      <td>54.745121</td>\n",
       "      <td>8.881474</td>\n",
       "    </tr>\n",
       "    <tr>\n",
       "      <th>...</th>\n",
       "      <td>...</td>\n",
       "      <td>...</td>\n",
       "    </tr>\n",
       "    <tr>\n",
       "      <th>2014-04-04 23:55:00+01:00</th>\n",
       "      <td>55.215847</td>\n",
       "      <td>9.010243</td>\n",
       "    </tr>\n",
       "    <tr>\n",
       "      <th>2014-04-04 23:56:00+01:00</th>\n",
       "      <td>55.332542</td>\n",
       "      <td>9.010132</td>\n",
       "    </tr>\n",
       "    <tr>\n",
       "      <th>2014-04-04 23:57:00+01:00</th>\n",
       "      <td>55.520920</td>\n",
       "      <td>9.006132</td>\n",
       "    </tr>\n",
       "    <tr>\n",
       "      <th>2014-04-04 23:58:00+01:00</th>\n",
       "      <td>55.831440</td>\n",
       "      <td>8.990813</td>\n",
       "    </tr>\n",
       "    <tr>\n",
       "      <th>2014-04-04 23:59:00+01:00</th>\n",
       "      <td>55.200794</td>\n",
       "      <td>8.985247</td>\n",
       "    </tr>\n",
       "  </tbody>\n",
       "</table>\n",
       "<p>1440 rows × 2 columns</p>\n",
       "</div>"
      ],
      "text/plain": [
       "                           fridge freezer  computer\n",
       "Unix                                               \n",
       "2014-04-04 00:00:00+01:00       52.863453  8.871467\n",
       "2014-04-04 00:01:00+01:00       53.439396  8.871139\n",
       "2014-04-04 00:02:00+01:00       53.842091  8.871538\n",
       "2014-04-04 00:03:00+01:00       54.514225  8.882552\n",
       "2014-04-04 00:04:00+01:00       54.745121  8.881474\n",
       "...                                   ...       ...\n",
       "2014-04-04 23:55:00+01:00       55.215847  9.010243\n",
       "2014-04-04 23:56:00+01:00       55.332542  9.010132\n",
       "2014-04-04 23:57:00+01:00       55.520920  9.006132\n",
       "2014-04-04 23:58:00+01:00       55.831440  8.990813\n",
       "2014-04-04 23:59:00+01:00       55.200794  8.985247\n",
       "\n",
       "[1440 rows x 2 columns]"
      ]
     },
     "execution_count": 23,
     "metadata": {},
     "output_type": "execute_result"
    }
   ],
   "source": [
    "preds = api_results_experiment_1.pred_overall[\"Seq2Seq\"]\n",
    "preds"
   ]
  },
  {
   "cell_type": "code",
   "execution_count": 26,
   "metadata": {},
   "outputs": [
    {
     "data": {
      "text/plain": [
       "[<matplotlib.lines.Line2D at 0x1e475820160>]"
      ]
     },
     "execution_count": 26,
     "metadata": {},
     "output_type": "execute_result"
    },
    {
     "data": {
      "image/png": "[encoded data removed]",
      "text/plain": [
       "<Figure size 640x480 with 1 Axes>"
      ]
     },
     "metadata": {},
     "output_type": "display_data"
    }
   ],
   "source": [
    "plt.plot(preds[\"computer\"])"
   ]
  }
 ],
 "metadata": {
  "kernelspec": {
   "display_name": "energy_env",
   "language": "python",
   "name": "python3"
  },
  "language_info": {
   "codemirror_mode": {
    "name": "ipython",
    "version": 3
   },
   "file_extension": ".py",
   "mimetype": "text/x-python",
   "name": "python",
   "nbconvert_exporter": "python",
   "pygments_lexer": "ipython3",
   "version": "3.8.16"
  },
  "orig_nbformat": 4
 },
 "nbformat": 4,
 "nbformat_minor": 2
}
